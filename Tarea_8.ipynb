{
  "nbformat": 4,
  "nbformat_minor": 0,
  "metadata": {
    "colab": {
      "name": "Tarea_8.ipynb",
      "provenance": [],
      "authorship_tag": "ABX9TyMkD+i+ZaLumoKQuoHEpsI4",
      "include_colab_link": true
    },
    "kernelspec": {
      "name": "python3",
      "display_name": "Python 3"
    }
  },
  "cells": [
    {
      "cell_type": "markdown",
      "metadata": {
        "id": "view-in-github",
        "colab_type": "text"
      },
      "source": [
        "<a href=\"https://colab.research.google.com/github/ludwin1/cyp_2021/blob/main/Tarea_8.ipynb\" target=\"_parent\"><img src=\"https://colab.research.google.com/assets/colab-badge.svg\" alt=\"Open In Colab\"/></a>"
      ]
    },
    {
      "cell_type": "code",
      "metadata": {
        "id": "d0vxjl0nyfmi",
        "colab": {
          "base_uri": "https://localhost:8080/"
        },
        "outputId": "0b517597-fef7-4262-b6ee-a425bdb4a77c"
      },
      "source": [
        "print(\"  \\U0001F47D\\U0001F47D\\U0001F47D\\U0001F47D    \\U0001F47D\\U0001F47D\\U0001F47D  \\U0001F47D\\U0001F47D\\U0001F47D \")\r\n",
        "print(\"      \\U0001F47D       \\U0001F47D        \\U0001F47D \")\r\n",
        "print(\"     \\U0001F47D        \\U0001F47D\\U0001F47D      \\U0001F47D \" )\r\n",
        "print(\"   \\U0001F47D          \\U0001F47D        \\U0001F47D \")\r\n",
        "print(\"  \\U0001F47D\\U0001F47D\\U0001F47D\\U0001F47D    \\U0001F47D\\U0001F47D \\U0001F47D   \\U0001F47D \")             "
      ],
      "execution_count": 109,
      "outputs": [
        {
          "output_type": "stream",
          "text": [
            "  👽👽👽👽    👽👽👽  👽👽👽 \n",
            "      👽       👽        👽 \n",
            "     👽        👽👽      👽 \n",
            "   👽          👽        👽 \n",
            "  👽👽👽👽    👽👽 👽   👽 \n"
          ],
          "name": "stdout"
        }
      ]
    }
  ]
}