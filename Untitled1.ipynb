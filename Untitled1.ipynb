{
  "nbformat": 4,
  "nbformat_minor": 0,
  "metadata": {
    "colab": {
      "name": "Untitled1.ipynb",
      "provenance": [],
      "authorship_tag": "ABX9TyP/7tVv2tU8RmZxU+wOAipq",
      "include_colab_link": true
    },
    "kernelspec": {
      "name": "python3",
      "display_name": "Python 3"
    }
  },
  "cells": [
    {
      "cell_type": "markdown",
      "metadata": {
        "id": "view-in-github",
        "colab_type": "text"
      },
      "source": [
        "<a href=\"https://colab.research.google.com/github/ludwin1/cyp_2021/blob/main/Untitled1.ipynb\" target=\"_parent\"><img src=\"https://colab.research.google.com/assets/colab-badge.svg\" alt=\"Open In Colab\"/></a>"
      ]
    },
    {
      "cell_type": "code",
      "metadata": {
        "id": "K4dQ8Y7iePQM",
        "outputId": "0235b8a3-2361-426b-d435-5ee28d093643",
        "colab": {
          "base_uri": "https://localhost:8080/"
        }
      },
      "source": [
        "numero= int (input(\" dame un numero \"))\n",
        "if numero >0:\n",
        "  print( \" el numero es positivo \")\n",
        "  print( \" fin del programa \")\n",
        "\n",
        "\n",
        " "
      ],
      "execution_count": 6,
      "outputs": [
        {
          "output_type": "stream",
          "text": [
            " dame un numero 3\n",
            " el numero es positivo \n",
            " fin del programa \n"
          ],
          "name": "stdout"
        }
      ]
    },
    {
      "cell_type": "code",
      "metadata": {
        "id": "xonWxDXGe0bQ"
      },
      "source": [
        "numero = int(input(\"Ingresa un número: \"))\n",
        "if numero>0:\n",
        "  print(\"Número es positivo\")\n",
        "elif numero<0:\n",
        "  print(\"Número es negativo\")\n",
        "else:\n",
        "  print(\"Número es 0\")\n",
        "\n",
        "  \n",
        " "
      ],
      "execution_count": null,
      "outputs": []
    },
    {
      "cell_type": "code",
      "metadata": {
        "id": "Qm2PA7a7ct_x"
      },
      "source": [
        ""
      ],
      "execution_count": null,
      "outputs": []
    }
  ]
}