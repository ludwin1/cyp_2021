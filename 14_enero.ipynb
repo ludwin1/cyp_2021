{
  "nbformat": 4,
  "nbformat_minor": 0,
  "metadata": {
    "colab": {
      "name": "14_enero.ipynb",
      "provenance": [],
      "authorship_tag": "ABX9TyP71Z+jCEIJYCoh7/eVidXT",
      "include_colab_link": true
    },
    "kernelspec": {
      "name": "python3",
      "display_name": "Python 3"
    }
  },
  "cells": [
    {
      "cell_type": "markdown",
      "metadata": {
        "id": "view-in-github",
        "colab_type": "text"
      },
      "source": [
        "<a href=\"https://colab.research.google.com/github/ludwin1/cyp_2021/blob/main/14_enero.ipynb\" target=\"_parent\"><img src=\"https://colab.research.google.com/assets/colab-badge.svg\" alt=\"Open In Colab\"/></a>"
      ]
    },
    {
      "cell_type": "markdown",
      "metadata": {
        "id": "mICOtxdi6YgQ"
      },
      "source": [
        "*texto en cursiva*\r\n",
        "\r\n",
        " false,\r\n",
        "None,\r\n",
        "True,\r\n",
        "and,\r\n",
        "as,\r\n",
        "assert,\r\n",
        "break,\r\n",
        "class,\r\n",
        "continue,\r\n",
        "def,\r\n",
        "del,\r\n",
        "elif,\r\n",
        "else,\r\n",
        "except,\r\n",
        "finally,\r\n",
        "for,\r\n",
        "from,\r\n",
        "global,\r\n",
        "if,\r\n",
        "import,\r\n",
        "in,\r\n",
        "is,\r\n",
        "lambda,\r\n",
        "nonlocal,\r\n",
        "not,\r\n",
        "or,\r\n",
        "pass,\r\n",
        "raise,\r\n",
        "return,\r\n",
        "try,\r\n",
        "while,\r\n",
        "with,\r\n",
        "yield,\r\n",
        "\r\n",
        "\r\n",
        "\r\n"
      ]
    },
    {
      "cell_type": "code",
      "metadata": {
        "colab": {
          "base_uri": "https://localhost:8080/"
        },
        "id": "t3Aturcy5bYV",
        "outputId": "d1956f29-4137-4b29-e2d4-a597f602aee5"
      },
      "source": [
        "import keyword\r\n",
        "pr= keyword.kwlist\r\n",
        "print(len(pr))\r\n",
        "for palabra in pr:\r\n",
        "  print(palabra,end=\",\")"
      ],
      "execution_count": 1,
      "outputs": [
        {
          "output_type": "stream",
          "text": [
            "33\n",
            "False,None,True,and,as,assert,break,class,continue,def,del,elif,else,except,finally,for,from,global,if,import,in,is,lambda,nonlocal,not,or,pass,raise,return,try,while,with,yield,"
          ],
          "name": "stdout"
        }
      ]
    },
    {
      "cell_type": "markdown",
      "metadata": {
        "id": "hiu_-3XZ7JcO"
      },
      "source": [
        "variable\r\n",
        "es un espacio de memoria de a computadora para almacenar valores que cambian a lo largo de la ejecucion del programa. este espacio de memoria esta referenciado por un identificador, el cual tienen ciertas reglas de nombrado.\r\n",
        "\r\n",
        "\r\n",
        "*   no puede iniciar con un numero \r\n",
        "*   no puede ser igual a alguna de las palabras reservadas\r\n",
        "*   puede iniciar con_\r\n",
        "*   evita nombres de variables largos\r\n",
        "*   evita muy cortos como x y z\r\n",
        "*   usa notacion snake_case\r\n",
        "\r\n",
        "\r\n",
        "\r\n",
        "\r\n",
        "\r\n"
      ]
    },
    {
      "cell_type": "code",
      "metadata": {
        "id": "833HYSYb8PQp"
      },
      "source": [
        "_2edad=12\r\n",
        "print(_2edad)\r\n",
        "\"\"\"\r\n",
        "no se puede usar una palabra reservada como identificador d evariable:\r\n",
        "for_=12\r\n",
        "print(for)\r\n",
        "\"\"\"\r\n"
      ],
      "execution_count": null,
      "outputs": []
    },
    {
      "cell_type": "code",
      "metadata": {
        "id": "VirwdboN9Ei6"
      },
      "source": [
        "\"\"\"\r\n",
        "la notacion snkae case consta de formar el identificador de variable\r\n",
        " separando las palabras de mismo con un guion bajo.\r\n",
        "\r\n",
        " se recomienda que los identificadores se escriban en minusculas para las variables \r\n",
        " y en mayusculas para las constantes\r\n",
        "\r\n",
        " es decir si tenemos una variable para los dias de la semana, se escribiria a \r\n",
        " dias_de_la_semana=7\r\n",
        " dias_mes=31\r\n",
        " limite_maximo=100\r\n",
        "\r\n",
        " \"\"\""
      ],
      "execution_count": null,
      "outputs": []
    },
    {
      "cell_type": "markdown",
      "metadata": {
        "id": "KR9Cf8eN96tc"
      },
      "source": [
        "#tipo de datos\r\n",
        "- Numéricos\r\n",
        "   - int(1,2,3,2345,etc)\r\n",
        "   - float4 bytes(1.14,1.232)\r\n",
        "   - long 8 bytes(1,2,2345,etc)\r\n",
        "   - complex 3 +2j(raices negativas)\r\n",
        "- boolean: True o False\r\n",
        "- string cadenas de caracteres(\"cad\",'cad'o \"\"\"cad \"\"\")\r\n",
        "- listas([1,2,3,4],[a,b,1,2,3])\r\n",
        "- tuplas( (edad,23),(3,4))\r\n",
        "- conjuntos\r\n",
        "-diccionarios({\"nombre:\"\"juan\"})\r\n"
      ]
    },
    {
      "cell_type": "markdown",
      "metadata": {
        "id": "bIB7y0RIEAsy"
      },
      "source": [
        "#tipo de dato string\r\n",
        "\r\n",
        "este tipo de dato permite almacenar cadenas de caracteres como por ejemplo:\r\n",
        "\r\n",
        "\r\n",
        "nombre='jesus'\r\n",
        "lugar_nacimiento=\"mexico D.F, Tacuba\"\r\n",
        "frase_favorita=\"\"\"\r\n",
        "el conocimiento\r\n",
        "me persigue, \r\n",
        "pero...\r\n",
        "yo soy mas rapido!!!\r\n",
        ":)\r\n",
        "\"\"\"\r\n"
      ]
    },
    {
      "cell_type": "markdown",
      "metadata": {
        "id": "WMT5O1qaFmOw"
      },
      "source": [
        "#String como arreglo\r\n",
        "un string en python es almacenado \r\n",
        "como el tipo de dato(estructra de datos)\r\n",
        "arreglo.\r\n",
        "\r\n",
        "por ejemplo la declaracion:\r\n",
        "```\r\n",
        "nombre='jesus'\r\n",
        "el elemento 'j 'es almacenadoen un arreglo enla posicion 0.\r\n",
        "la 'e' en la 1 y asi sucesivamente\r\n",
        "### selector\r\n",
        "la notacion para seleccionar un elemento del arreglo es:\r\n",
        "```\r\n",
        "[1]\r\n",
        "```\r\n",
        "donde el valor interno debe ser un valor numericos entero\r\n"
      ]
    },
    {
      "cell_type": "code",
      "metadata": {
        "colab": {
          "base_uri": "https://localhost:8080/"
        },
        "id": "CQGtaf4hGSst",
        "outputId": "38f08cbe-6381-4fb0-f64d-dcc17253dcd3"
      },
      "source": [
        "nombre='jesús'\r\n",
        "print(nombre)\r\n",
        "print(nombre[0])\r\n",
        "print(nombre[3])"
      ],
      "execution_count": 2,
      "outputs": [
        {
          "output_type": "stream",
          "text": [
            "jesús\n",
            "j\n",
            "ú\n"
          ],
          "name": "stdout"
        }
      ]
    },
    {
      "cell_type": "markdown",
      "metadata": {
        "id": "a-U2Ak_THX00"
      },
      "source": [
        "#iterar sobre un string\r\n",
        "se puede iterar un string con un for de la forma:\r\n",
        "```\r\n",
        "for indice in range(len(nombre)):\r\n",
        "  print(indice)\r\n",
        "```\r\n"
      ]
    },
    {
      "cell_type": "code",
      "metadata": {
        "colab": {
          "base_uri": "https://localhost:8080/"
        },
        "id": "WCeZsjzEIY8q",
        "outputId": "97282484-551e-42d9-c42f-11bd07f3fde4"
      },
      "source": [
        "for indice in range(len(nombre)):\r\n",
        "  print(indice, end= \" \")\r\n",
        "  print(nombre[indice] )"
      ],
      "execution_count": 7,
      "outputs": [
        {
          "output_type": "stream",
          "text": [
            "0 j\n",
            "1 e\n",
            "2 s\n",
            "3 ú\n",
            "4 s\n"
          ],
          "name": "stdout"
        }
      ]
    },
    {
      "cell_type": "markdown",
      "metadata": {
        "id": "a7jW5vhTKWvn"
      },
      "source": [
        "##funcion range(inicio,stop,incremento)\r\n",
        "el inicio es opcional ypor defecto tiene ek valor 0\r\n",
        "el incremento tambien es opcional y por defecto es 1"
      ]
    },
    {
      "cell_type": "code",
      "metadata": {
        "colab": {
          "base_uri": "https://localhost:8080/"
        },
        "id": "GbfV3b8aKkb2",
        "outputId": "ec93a8fa-3339-4356-eeae-73aeee9eb70c"
      },
      "source": [
        "for indice in range( 1, len(nombre),1):\r\n",
        "  print(nombre[indice])\r\n",
        "  "
      ],
      "execution_count": 8,
      "outputs": [
        {
          "output_type": "stream",
          "text": [
            "e\n",
            "s\n",
            "ú\n",
            "s\n"
          ],
          "name": "stdout"
        }
      ]
    },
    {
      "cell_type": "code",
      "metadata": {
        "colab": {
          "base_uri": "https://localhost:8080/"
        },
        "id": "VUN8GqxpLR7t",
        "outputId": "8ad9e6be-6964-4cc4-c644-c9d8616a6bf8"
      },
      "source": [
        "for indice in range(4, -1,-1):\r\n",
        "  print(nombre[indice])"
      ],
      "execution_count": 9,
      "outputs": [
        {
          "output_type": "stream",
          "text": [
            "s\n",
            "ú\n",
            "s\n",
            "e\n",
            "j\n"
          ],
          "name": "stdout"
        }
      ]
    },
    {
      "cell_type": "markdown",
      "metadata": {
        "id": "0muqMS1ZLzor"
      },
      "source": [
        "#string e indexado negativo\r\n",
        "en python 3 se agrega una nueva caracteristica a os arreglos de las cadenas de caracteres, esta consta de la capacidad de indexar de forma negativa\r\n",
        "\r\n",
        "la logica es lasiguiente.\r\n",
        "\r\n",
        "el ultimo elemento se le considera como indice (alternativo)-1, con lo cual se podria referenciar el final de la cadena sin la necesidad de saber el tamaño de la misma\r\n",
        "```\r\n",
        "nombre='jesus'\r\n",
        "indice normal 0  1  2  3  4\r\n",
        "\r\n",
        "              j  e  s  ú  s\r\n",
        "  \r\n",
        "indice alter.-5 -4 -3 -2- 1"
      ]
    },
    {
      "cell_type": "code",
      "metadata": {
        "colab": {
          "base_uri": "https://localhost:8080/"
        },
        "id": "ydIEMernMnSx",
        "outputId": "cfdd2208-4f33-4860-f1f8-4c5720e2f89c"
      },
      "source": [
        "nombre=\"jesus\"\r\n",
        "print(nombre[4])\r\n",
        "print(nombre[-1])\r\n",
        "for indice_alter in range(-1,-6,-1):\r\n",
        "  print(nombre[indice_alter])"
      ],
      "execution_count": 10,
      "outputs": [
        {
          "output_type": "stream",
          "text": [
            "s\n",
            "s\n",
            "s\n",
            "u\n",
            "s\n",
            "e\n",
            "j\n"
          ],
          "name": "stdout"
        }
      ]
    },
    {
      "cell_type": "markdown",
      "metadata": {
        "id": "3BFkrIPbPzPj"
      },
      "source": [
        "#slicing de cadena de caracteres.\r\n",
        "estas caracteristicas permite sacar secciones de na cadena con la siguiente sintaxis:\r\n",
        "```\r\n",
        "[inicio:stop:incremento]\r\n",
        "```\r\n",
        "donde inicio e incremento son opciones y tambien soportan indexado alternativo(negativos)"
      ]
    },
    {
      "cell_type": "code",
      "metadata": {
        "colab": {
          "base_uri": "https://localhost:8080/"
        },
        "id": "cdQXXIrQP4jg",
        "outputId": "dfc78a69-ea3b-40c3-9268-e064fffb2596"
      },
      "source": [
        "facultad=\"facultad de estudios superiores aragon(la mejor)\"\r\n",
        "print(facultad)\r\n",
        "for indice in range(12,20,1):\r\n",
        "  print(facultad[indice], end=\"\")\r\n",
        "#hacer esto mismo con las caracteristicas slicing se logra asi:\r\n",
        "print(\"\\ncon slicing\")\r\n",
        "print(facultad[12:20:1])\r\n",
        "#la palabra de con slising\r\n",
        "print(facultad[11:12:1])"
      ],
      "execution_count": 19,
      "outputs": [
        {
          "output_type": "stream",
          "text": [
            "facultad de estudios superiores aragon(la mejor)\n",
            "estudios\n",
            "con slicing\n",
            "estudios\n",
            " \n"
          ],
          "name": "stdout"
        }
      ]
    }
  ]
}