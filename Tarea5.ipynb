{
  "nbformat": 4,
  "nbformat_minor": 0,
  "metadata": {
    "colab": {
      "name": "Tarea5ipynb",
      "provenance": [],
      "authorship_tag": "ABX9TyMsVPuvMbyYvEbQfliVpPKt",
      "include_colab_link": true
    },
    "kernelspec": {
      "name": "python3",
      "display_name": "Python 3"
    }
  },
  "cells": [
    {
      "cell_type": "markdown",
      "metadata": {
        "id": "view-in-github",
        "colab_type": "text"
      },
      "source": [
        "<a href=\"https://colab.research.google.com/github/ludwin1/cyp_2021/blob/main/Tarea5.ipynb\" target=\"_parent\"><img src=\"https://colab.research.google.com/assets/colab-badge.svg\" alt=\"Open In Colab\"/></a>"
      ]
    },
    {
      "cell_type": "code",
      "metadata": {
        "colab": {
          "base_uri": "https://localhost:8080/"
        },
        "id": "L28DqQwi8zHI",
        "outputId": "bcfbe2e7-ae67-4dba-e569-bc1c6f5ae6d1"
      },
      "source": [
        "#ejemplo 3.1\n",
        "\n",
        "sue1=int(input(\"SUE1 :\"))\n",
        "sue2=int(input(\"SUE2 :\"))\n",
        "sue3=int(input(\"SUE3 :\"))\n",
        "sue4=int(input(\"SUE4 :\"))\n",
        "sue5=int(input(\"SUE5 :\"))\n",
        "sue6=int(input(\"SUE6 :\"))\n",
        "sue7=int(input(\"SUE7 :\"))\n",
        "sue8=int(input(\"SUE8 :\"))\n",
        "sue9=int(input(\"SUE9 :\"))\n",
        "sue10=int(input(\"SUE10: \"))\n",
        "nomina=(sue1+sue2+sue3+sue4+sue5+sue6+sue7+sue8+sue9+sue10)\n",
        "print(\"la nomina es: \",nomina)"
      ],
      "execution_count": 7,
      "outputs": [
        {
          "output_type": "stream",
          "text": [
            "SUE1 :10\n",
            "SUE2 :19\n",
            "SUE3 :10\n",
            "SUE4 :10\n",
            "SUE5 :10\n",
            "SUE6 :10\n",
            "SUE7 :10\n",
            "SUE8 :10\n",
            "SUE9 :10\n",
            "SUE10: 10\n",
            "la nomina es:  109\n"
          ],
          "name": "stdout"
        }
      ]
    },
    {
      "cell_type": "code",
      "metadata": {
        "colab": {
          "base_uri": "https://localhost:8080/"
        },
        "id": "pu9zIHg-_SAR",
        "outputId": "78ad6a17-c46f-4c75-c3d6-c2e1dcdf9e62"
      },
      "source": [
        "sumgas=0                                #nose como hacer el \"acumulador\" profesora :,(\r\n",
        "GASTO=int(input(\"ingrese gasto\"))\r\n",
        "while GASTO <-1 or GASTO >-1 :\r\n",
        "  GASTO=int(input(\"ingrese gasto\"))\r\n",
        "  print(GASTO+sumgas)\r\n",
        "print(sumgas)\r\n"
      ],
      "execution_count": 17,
      "outputs": [
        {
          "output_type": "stream",
          "text": [
            "ingrese gasto-1\n",
            "0\n"
          ],
          "name": "stdout"
        }
      ]
    },
    {
      "cell_type": "code",
      "metadata": {
        "id": "bqFBlx2c3nMQ"
      },
      "source": [
        ""
      ],
      "execution_count": null,
      "outputs": []
    }
  ]
}