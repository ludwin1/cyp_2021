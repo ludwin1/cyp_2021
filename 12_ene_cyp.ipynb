{
  "nbformat": 4,
  "nbformat_minor": 0,
  "metadata": {
    "colab": {
      "name": "12_ene_cyp.ipynb",
      "provenance": [],
      "authorship_tag": "ABX9TyNmhUSyrQUiDhtM9ID5054N",
      "include_colab_link": true
    },
    "kernelspec": {
      "name": "python3",
      "display_name": "Python 3"
    }
  },
  "cells": [
    {
      "cell_type": "markdown",
      "metadata": {
        "id": "view-in-github",
        "colab_type": "text"
      },
      "source": [
        "<a href=\"https://colab.research.google.com/github/ludwin1/cyp_2021/blob/main/12_ene_cyp.ipynb\" target=\"_parent\"><img src=\"https://colab.research.google.com/assets/colab-badge.svg\" alt=\"Open In Colab\"/></a>"
      ]
    },
    {
      "cell_type": "code",
      "metadata": {
        "id": "SDj9gz1sqXay"
      },
      "source": [
        "#introduccion a python\r\n",
        "-creado en los 90´s por guido van R\r\n",
        "-en el 2000 python mejora y tiene nuevas caracteristicas\r\n",
        "-en el 2020 deja deser una version oficial python 2.7\r\n",
        "y solo se le dara soporte a python 3 en adelante \r\n",
        "#caracteristicas de python\r\n",
        "1. lenguaje de proposito general\r\n",
        "2.intrerpretado y no-complicado\r\n",
        "3.tipos de datos dinamicos\r\n",
        "4.multiplataforma\r\n",
        "5.lenguaje multiparadigma\r\n",
        "6codigo estructurado por identacion\r\n",
        "if a>10 :\r\n",
        "  print(hola)\r\n",
        "print(hola dos)\r\n",
        "#principios zen python\r\n",
        "son las caracteristicas que guian el diseño del lenguaje python\r\n",
        "\r\n"
      ],
      "execution_count": null,
      "outputs": []
    },
    {
      "cell_type": "code",
      "metadata": {
        "id": "2YLPniGju195"
      },
      "source": [
        "nombre =\"jose \"\r\n",
        "edad=18\r\n",
        "print(\"hola\",nombre,edad)"
      ],
      "execution_count": null,
      "outputs": []
    },
    {
      "cell_type": "code",
      "metadata": {
        "id": "Hjbb5P5XzUbQ"
      },
      "source": [
        "print(\"hola\", nombre,edad)\r\n",
        "print(\"hola\",+nombre+\"con una edad de \", edad,\"años\")\r\n",
        "print(\"hola\",+nombre +\"\" +str(edad)+\"años\")\r\n",
        "#nombre jose con una edad de 18 años\r\n",
        "print(\"nombre\",nombre,\"con una edad de \")\r\n",
        "#con format\r\n",
        "print(\"nombre:{0}con una eda de: {1} años.\".format(nombre,edad))\r\n",
        "#operador f\r\n",
        "print(f\"nombre:{nombre}con una edad de:{edad}años.\")"
      ],
      "execution_count": null,
      "outputs": []
    },
    {
      "cell_type": "code",
      "metadata": {
        "colab": {
          "base_uri": "https://localhost:8080/"
        },
        "id": "s_NBsx1M2v0i",
        "outputId": "54ea0f20-783f-4761-a629-01a815db1f27"
      },
      "source": [
        "print('\"')\r\n",
        "print(\"\\\"\")"
      ],
      "execution_count": 1,
      "outputs": [
        {
          "output_type": "stream",
          "text": [
            "\"\n",
            "\"\n"
          ],
          "name": "stdout"
        }
      ]
    },
    {
      "cell_type": "code",
      "metadata": {
        "id": "WNjkY6en3LQo"
      },
      "source": [
        "#funcion print\r\n",
        "print(hola \\u)\r\n",
        "#print lista de variables\r\n",
        "print(\"hola\",end=\"\")\r\n",
        "print(\"mundo\", end=\"\")\r\n",
        "print(\"fin\",end=\"\\n\")"
      ],
      "execution_count": null,
      "outputs": []
    }
  ]
}