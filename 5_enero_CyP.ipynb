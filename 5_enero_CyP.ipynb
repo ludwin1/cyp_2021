{
  "nbformat": 4,
  "nbformat_minor": 0,
  "metadata": {
    "colab": {
      "name": "5_enero_CyP.ipynb",
      "provenance": [],
      "authorship_tag": "ABX9TyOki4MxoIWb0WRWXwjZNZ5t",
      "include_colab_link": true
    },
    "kernelspec": {
      "name": "python3",
      "display_name": "Python 3"
    }
  },
  "cells": [
    {
      "cell_type": "markdown",
      "metadata": {
        "id": "view-in-github",
        "colab_type": "text"
      },
      "source": [
        "<a href=\"https://colab.research.google.com/github/ludwin1/cyp_2021/blob/main/5_enero_CyP.ipynb\" target=\"_parent\"><img src=\"https://colab.research.google.com/assets/colab-badge.svg\" alt=\"Open In Colab\"/></a>"
      ]
    },
    {
      "cell_type": "code",
      "metadata": {
        "colab": {
          "base_uri": "https://localhost:8080/"
        },
        "id": "0FH1TC24okgH",
        "outputId": "7b866045-d549-49c2-80ef-637f260b362e"
      },
      "source": [
        "#problema 4.1\r\n",
        "maximo=7\r\n",
        "sueldos = [0.0 for x in range (maximo)]\r\n",
        "suma=0.0\r\n",
        "promedio=0.0\r\n",
        "\r\n",
        "for i in range (7):\r\n",
        "  sueldos[i]= float(input(\"dame el sueldo :\"))\r\n",
        "\r\n",
        "for i in range(7):\r\n",
        "  print(f\"trabajador {i+1}, gana : {sueldos [i] }\")\r\n",
        "for i in range (maximo):\r\n",
        "  suma= suma + sueldos[i]\r\n",
        "promedio= suma / maximo\r\n",
        "print(\"el promedio de sueldo es \", promedio)\r\n",
        "\r\n",
        "for i in range(maximo ):\r\n",
        "  if sueldos[i]> promedio:\r\n",
        "    print(f\"el trabajado {i+1}tiene un sueldo mayor al promedio\")"
      ],
      "execution_count": null,
      "outputs": [
        {
          "output_type": "stream",
          "text": [
            "dame el sueldo :4\n",
            "dame el sueldo :5\n",
            "dame el sueldo :4\n",
            "dame el sueldo :5\n",
            "dame el sueldo :4\n",
            "dame el sueldo :5\n",
            "dame el sueldo :4\n",
            "trabajador 1, gana : 4.0\n",
            "trabajador 2, gana : 5.0\n",
            "trabajador 3, gana : 4.0\n",
            "trabajador 4, gana : 5.0\n",
            "trabajador 5, gana : 4.0\n",
            "trabajador 6, gana : 5.0\n",
            "trabajador 7, gana : 4.0\n",
            "el promedio de sueldo es  4.428571428571429\n",
            "el trabajado 2tiene un sueldo mayor al promedio\n",
            "el trabajado 4tiene un sueldo mayor al promedio\n",
            "el trabajado 6tiene un sueldo mayor al promedio\n"
          ],
          "name": "stdout"
        }
      ]
    },
    {
      "cell_type": "code",
      "metadata": {
        "colab": {
          "base_uri": "https://localhost:8080/"
        },
        "id": "dppSvYJWueaP",
        "outputId": "43b486c2-672e-4f74-e265-266e618ba32e"
      },
      "source": [
        "#hacer un programa que solicite 5 valores enteros positivos y \r\n",
        "#una vez que se caputuren por teclado, el programa determine lo sig\r\n",
        "#a) cual es el mayor\r\n",
        "#b) cual es el menor \r\n",
        "#c) cual es el promedio\r\n",
        "Max = 5\r\n",
        "valor =  [0.0 for x in range(Max)]\r\n",
        "sum = 0.0\r\n",
        "prom = 0.0\r\n",
        "M = 0\r\n",
        "m = 100000000\r\n",
        "\r\n",
        "for i in range(Max):\r\n",
        "  valor[i] = int(input(\"Dame un valor entero positivo: \"))\r\n",
        "  if valor[i] > M:\r\n",
        "    M = valor[i]\r\n",
        "  elif valor[i] < m:\r\n",
        "    m = valor[i]\r\n",
        "\r\n",
        "for i in range(Max):\r\n",
        "  sum = sum + valor[i]\r\n",
        "\r\n",
        "prom = sum / Max\r\n",
        "\r\n",
        "print(f\"El numero mayor es {M}\")\r\n",
        "print(f\"El numero menor es {m}\")\r\n",
        "print(f\"El promedio es {prom}\")"
      ],
      "execution_count": null,
      "outputs": [
        {
          "output_type": "stream",
          "text": [
            "Dame un valor entero positivo: 1\n",
            "Dame un valor entero positivo: 2\n",
            "Dame un valor entero positivo: 3\n",
            "Dame un valor entero positivo: 4\n",
            "Dame un valor entero positivo: 5\n",
            "El numero mayor es 5\n",
            "El numero menor es 100000000\n",
            "El promedio es 3.0\n"
          ],
          "name": "stdout"
        }
      ]
    },
    {
      "cell_type": "code",
      "metadata": {
        "colab": {
          "base_uri": "https://localhost:8080/"
        },
        "id": "CDu8TzK2vqIF",
        "outputId": "74ab9a88-432e-4b2b-eec2-8194d609f302"
      },
      "source": [
        "#problema 4.1\r\n",
        "N= int(input(\"ingrese numeros de elementos de arreglo:\"))\r\n",
        "VEC = []\r\n",
        "if 1 <= N and N <= 500:\r\n",
        "  i=1\r\n",
        "  VEC= [0.0 for x in range(N)]\r\n",
        "  print(VEC)\r\n",
        "  for i in range(N):\r\n",
        "    VEC[i]=int(input(\"ingrese valor: \"+str(i+1)+\":\"))\r\n",
        "  print(\"lista de numeros sin repeticione :\")\r\n",
        "  i=1\r\n",
        "  while i< N:\r\n",
        "    print(VEC[i])\r\n",
        "    REPET= VEC[i]\r\n",
        "    while i < N and REPET==VEC[i ]:\r\n",
        "      i=i+1\r\n",
        "  \r\n",
        "else:\r\n",
        "  print(\"el numero de elementos del arreglo es incorrecto\")\r\n"
      ],
      "execution_count": null,
      "outputs": [
        {
          "output_type": "stream",
          "text": [
            "ingrese numeros de elementos de arreglo:10\n",
            "[0.0, 0.0, 0.0, 0.0, 0.0, 0.0, 0.0, 0.0, 0.0, 0.0]\n",
            "ingrese valor: 1:2\n",
            "ingrese valor: 2:3\n",
            "ingrese valor: 3:3\n",
            "ingrese valor: 4:3\n",
            "ingrese valor: 5:10\n",
            "ingrese valor: 6:20\n",
            "ingrese valor: 7:20\n",
            "ingrese valor: 8:40\n",
            "ingrese valor: 9:43\n",
            "ingrese valor: 10:51\n",
            "lista de numeros sin repeticione :\n",
            "3\n",
            "10\n",
            "20\n",
            "40\n",
            "43\n",
            "51\n"
          ],
          "name": "stdout"
        }
      ]
    }
  ]
}