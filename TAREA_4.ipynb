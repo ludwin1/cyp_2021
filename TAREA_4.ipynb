{
  "nbformat": 4,
  "nbformat_minor": 0,
  "metadata": {
    "colab": {
      "name": "TAREA4.ipynb",
      "provenance": [],
      "authorship_tag": "ABX9TyOwieFDZ4JILfXb5VczdxSy",
      "include_colab_link": true
    },
    "kernelspec": {
      "name": "python3",
      "display_name": "Python 3"
    }
  },
  "cells": [
    {
      "cell_type": "markdown",
      "metadata": {
        "id": "view-in-github",
        "colab_type": "text"
      },
      "source": [
        "<a href=\"https://colab.research.google.com/github/ludwin1/cyp_2021/blob/main/TAREA_4.ipynb\" target=\"_parent\"><img src=\"https://colab.research.google.com/assets/colab-badge.svg\" alt=\"Open In Colab\"/></a>"
      ]
    },
    {
      "cell_type": "code",
      "metadata": {
        "id": "w-YT7LRRItCM",
        "colab": {
          "base_uri": "https://localhost:8080/"
        },
        "outputId": "59d4397b-a63b-462e-9113-10c7faff2cb0"
      },
      "source": [
        "#Construya un diagrama de flujo tal que dado como dato el sueldo de un trabajador,\n",
        "# le aplique un aumento del 15% si su sueldo es inferior a $1000 y 12% en caso\n",
        "#contrario. Imprima el nuevo sueldo del trabajador.\n",
        "\n",
        "SUE=int(input(\"¿cual es vuestro sueldo?: \"))\n",
        "xd=\"nuevo sueldo es :\"\n",
        "if SUE <1000 :\n",
        "  print(xd,\"$\",SUE*1.15)\n",
        "if SUE >1000:\n",
        " print(xd,\"$\",SUE*1.12)"
      ],
      "execution_count": null,
      "outputs": [
        {
          "output_type": "stream",
          "text": [
            "¿cual es vuestro sueldo?: 50\n",
            "nuevo sueldo es : $ 57.49999999999999\n"
          ],
          "name": "stdout"
        }
      ]
    },
    {
      "cell_type": "code",
      "metadata": {
        "id": "vdXLrt5jJSuk",
        "colab": {
          "base_uri": "https://localhost:8080/"
        },
        "outputId": "f621c8e8-0646-41af-eef6-806446a6b30a"
      },
      "source": [
        "#Construya un diagrama de flujo tal que dado como datos la categoría y el sueldo\n",
        "#de un trabajador, calcule el aumento correspondiente teniendo en cuenta la siguiente tabla.\n",
        "# Imprima la categoría del trabajador y su nuevo sueldo.\n",
        "\n",
        "CATE=int(input(\"digite el numero de categoria de 1-4 :   \"))\n",
        "SUE=float(input(\"digite su sueldo :  \"))\n",
        "\n",
        "XD=\"Su nuevo sueldo es: \"\n",
        "if CATE ==1: \n",
        "  print(XD,\"$\",SUE*1.15)\n",
        "if CATE ==2 : \n",
        "  print(XD,\"$\",SUE* 1.10)\n",
        "if CATE==3 :\n",
        "  print(XD,\"$\",SUE*1.08)\n",
        "if CATE==4:\n",
        "  print(XD,\"$\",SUE*1.07)"
      ],
      "execution_count": null,
      "outputs": [
        {
          "output_type": "stream",
          "text": [
            "digite el numero de categoria de 1-4 :   1\n",
            "digite su sueldo :  2\n",
            "Su nuevo sueldo es:  $ 2.3\n"
          ],
          "name": "stdout"
        }
      ]
    }
  ]
}