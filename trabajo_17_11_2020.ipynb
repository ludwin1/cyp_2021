{
  "nbformat": 4,
  "nbformat_minor": 0,
  "metadata": {
    "colab": {
      "name": "trabajo 17/11/2020",
      "provenance": [],
      "authorship_tag": "ABX9TyPauczfowcXXemKFw/TZoBm",
      "include_colab_link": true
    },
    "kernelspec": {
      "name": "python3",
      "display_name": "Python 3"
    }
  },
  "cells": [
    {
      "cell_type": "markdown",
      "metadata": {
        "id": "view-in-github",
        "colab_type": "text"
      },
      "source": [
        "<a href=\"https://colab.research.google.com/github/ludwin1/cyp_2021/blob/main/trabajo_17_11_2020.ipynb\" target=\"_parent\"><img src=\"https://colab.research.google.com/assets/colab-badge.svg\" alt=\"Open In Colab\"/></a>"
      ]
    },
    {
      "cell_type": "code",
      "metadata": {
        "id": "79OE_BrZSZcW"
      },
      "source": [
        "edad=15\n",
        "estatura = 1.67\n",
        "a = 10\n",
        "b = 3\n",
        "c = 2 ** b +2 + 3 + 4\n",
        "print( c ) \n",
        "\n",
        "e= estatura * 2.0\n",
        "print( c )\n",
        "f= a / b\n",
        "print (f)\n",
        "g= a // b\n",
        "print ( \"g=\" ,g)\n",
        "h= a % b\n",
        "print (\"h=\", h)\n",
        "num= 10\n",
        "print( \"es par num ? \", (num % 2)==0)\n",
        "\n"
      ],
      "execution_count": null,
      "outputs": []
    },
    {
      "cell_type": "code",
      "metadata": {
        "colab": {
          "base_uri": "https://localhost:8080/"
        },
        "id": "KPXmM2s3YMU1",
        "outputId": "4f7e7008-a218-479f-9c87-1905d7e624b5"
      },
      "source": [
        "ecuacion= 9+7 *8 - 36/5\n",
        "print ( ecuacion)\n",
        "ecuacion = 0\n",
        "\n",
        "ecuacion = (9+7)*8 - 36 / 5\n",
        "print (ecuacion)\n"
      ],
      "execution_count": 6,
      "outputs": [
        {
          "output_type": "stream",
          "text": [
            "57.8\n",
            "120.8\n"
          ],
          "name": "stdout"
        }
      ]
    },
    {
      "cell_type": "code",
      "metadata": {
        "colab": {
          "base_uri": "https://localhost:8080/"
        },
        "id": "Ig5izrm8ZD4q",
        "outputId": "97fc8f79-146c-4315-f226-dd8f388dccc1"
      },
      "source": [
        "x= 5\n",
        "y = 4\n",
        "\n",
        "\n",
        "valor = (x == y ) #true\n",
        "print (valor)\n",
        "valor = (x != y )\n",
        "print (valor)\n",
        "valor =(x<y)\n",
        "print (valor)\n",
        "valor = (x > y) \n",
        "print (valor)\n",
        "valor = (x<=y)\n",
        "print (valor)\n",
        "valor = (x>= y)\n",
        "print (valor)"
      ],
      "execution_count": 11,
      "outputs": [
        {
          "output_type": "stream",
          "text": [
            "False\n",
            "True\n",
            "False\n",
            "True\n",
            "False\n",
            "True\n"
          ],
          "name": "stdout"
        }
      ]
    },
    {
      "cell_type": "code",
      "metadata": {
        "colab": {
          "base_uri": "https://localhost:8080/"
        },
        "id": "qWpI76HRf1dK",
        "outputId": "0903fc67-115e-4ac2-9e09-836a07a57a03"
      },
      "source": [
        "costo_chetos = 7.0\n",
        "tienda_abierta = True \n",
        "capital_en_bolsa = 10.0\n",
        "se_compra = (costo_chetos < capital_en_bolsa )and (tienda_abierta == True)\n",
        "print (se_compra )"
      ],
      "execution_count": 14,
      "outputs": [
        {
          "output_type": "stream",
          "text": [
            "True\n"
          ],
          "name": "stdout"
        }
      ]
    }
  ]
}