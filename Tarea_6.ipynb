{
  "nbformat": 4,
  "nbformat_minor": 0,
  "metadata": {
    "colab": {
      "name": "Tarea 6",
      "provenance": [],
      "collapsed_sections": [],
      "authorship_tag": "ABX9TyP1OS91yIiWNocQwufrkgUj",
      "include_colab_link": true
    },
    "kernelspec": {
      "display_name": "Python 3",
      "name": "python3"
    }
  },
  "cells": [
    {
      "cell_type": "markdown",
      "metadata": {
        "id": "view-in-github",
        "colab_type": "text"
      },
      "source": [
        "<a href=\"https://colab.research.google.com/github/ludwin1/cyp_2021/blob/main/Tarea_6.ipynb\" target=\"_parent\"><img src=\"https://colab.research.google.com/assets/colab-badge.svg\" alt=\"Open In Colab\"/></a>"
      ]
    },
    {
      "cell_type": "code",
      "metadata": {
        "colab": {
          "base_uri": "https://localhost:8080/"
        },
        "id": "eUOhudWFhsCh",
        "outputId": "04058cbb-1531-4593-d727-6cc1b2e7248a"
      },
      "source": [
        "#ejemplo 3.3\r\n",
        "#escriba un diagrama que lea un numero entero N y calcule el resultado de la siguiente serie\r\n",
        "serie = 0\r\n",
        "N=int(input(\"introduce numero entero    \"))\r\n",
        "BAND=True\r\n",
        "i=1\r\n",
        "while i <= N:\r\n",
        "  if BAND:\r\n",
        "    serie=serie+1/i\r\n",
        "    BAND= False\r\n",
        "  else:\r\n",
        "    serie= serie -1/ i\r\n",
        "    BAND= True\r\n",
        "  i=1+i\r\n",
        "print(\"el resultado de la suma de la serie es\",serie)\r\n",
        "\r\n",
        " \r\n"
      ],
      "execution_count": null,
      "outputs": [
        {
          "output_type": "stream",
          "text": [
            "introduce numero entero    2\n",
            "el resultado de la serie es 0.5\n"
          ],
          "name": "stdout"
        }
      ]
    },
    {
      "cell_type": "code",
      "metadata": {
        "colab": {
          "base_uri": "https://localhost:8080/"
        },
        "id": "9J2o4_Nbxqy-",
        "outputId": "8d10e15a-c1bf-4ab3-f9f6-fc1866fb722f"
      },
      "source": [
        "#problema 3.4\r\n",
        "#calcule el aumento de sueldo para un grupo de empleados de una empresa teniendo encuenta el siguiente criterio\r\n",
        "#si el sueldo es inferior a $1000 :aumento de 15%\r\n",
        "#si el sueldo es mayo o igual a $1000:aumento de 12%\r\n",
        "NOM=0\r\n",
        "SUE=float(input(\"ingrese sueldo de trabajador:        \"))\r\n",
        "while SUE !=-1 :\r\n",
        "  if SUE<1000:\r\n",
        "   NSUE=SUE*1.15\r\n",
        "  else:\r\n",
        "   NSUE=SUE*1.12\r\n",
        "  NOM =NOM+NSUE\r\n",
        "  print(\"el nuevo sueldo es\",NSUE)\r\n",
        "  SUE=float(input(\"ingrese sueldo de trabajador:        \"))\r\n",
        "print(\"EL SUELDO DEL NUEVO TRABAJADOR ES \",NOM)"
      ],
      "execution_count": null,
      "outputs": [
        {
          "output_type": "stream",
          "text": [
            "ingrese sueldo de trabajador:        855\n",
            "el nuevo sueldo es 983.2499999999999\n",
            "ingrese sueldo de trabajador:        760.32\n",
            "el nuevo sueldo es 874.3679999999999\n",
            "ingrese sueldo de trabajador:        1100.20\n",
            "el nuevo sueldo es 1232.2240000000002\n",
            "ingrese sueldo de trabajador:        614\n",
            "el nuevo sueldo es 706.0999999999999\n",
            "ingrese sueldo de trabajador:        2600\n",
            "el nuevo sueldo es 2912.0000000000005\n",
            "ingrese sueldo de trabajador:        817.50\n",
            "el nuevo sueldo es 940.1249999999999\n",
            "ingrese sueldo de trabajador:        1280.3\n",
            "el nuevo sueldo es 1433.9360000000001\n",
            "ingrese sueldo de trabajador:        687\n",
            "el nuevo sueldo es 790.05\n",
            "ingrese sueldo de trabajador:        -1\n",
            "EL SUELDO DEL NUEVO TRABAJADOR ES  9872.053\n"
          ],
          "name": "stdout"
        }
      ]
    },
    {
      "cell_type": "code",
      "metadata": {
        "colab": {
          "base_uri": "https://localhost:8080/"
        },
        "id": "6bVYxd9pINQs",
        "outputId": "89c17050-90b7-45db-9a9d-4cc282e4f64e"
      },
      "source": [
        "#dado N numeros enteros haga un diagrama de flujo que:\r\n",
        "#a)obtenga cuantos numeros obtenidos fueron mayores de cero PAG 129\r\n",
        "#b)calcule el promedio de numeros positivos\r\n",
        "#c)obtenga el promedio de todos los numeros\r\n",
        "SUMOTR=0\r\n",
        "SUMPOS=0\r\n",
        "CUEPOS=0\r\n",
        "N=float(input(\"dame el numero de datos\"))\r\n",
        "i=1\r\n",
        "while i<= N:\r\n",
        "  NUM=float(input(\"dame el numero \"))\r\n",
        "  if NUM >0 :\r\n",
        "    SUMPOS=SUMPOS+NUM\r\n",
        "    CUEPOS=CUEPOS +1\r\n",
        "  else:\r\n",
        "   SUMOTR=SUMOTR+NUM \r\n",
        "  i=1+i\r\n",
        "PROGEN=(SUMPOS+SUMOTR )/N\r\n",
        "PROPOS=(SUMPOS/CUEPOS)\r\n",
        "print(\"la cantidad de numeros positivos es\",CUEPOS)\r\n",
        "print(\"promedio de numeros positivos \",PROPOS)\r\n",
        "print(\"promedio general es\",PROGEN)"
      ],
      "execution_count": null,
      "outputs": [
        {
          "output_type": "stream",
          "text": [
            "dame el numero de datos4\n",
            "dame el numero 1\n",
            "dame el numero 2\n",
            "dame el numero 3\n",
            "dame el numero 4\n",
            "la cantidad de numeros positivos es 4\n",
            "promedio de numeros positivos  2.5\n",
            "promedio general es 2.5\n"
          ],
          "name": "stdout"
        }
      ]
    },
    {
      "cell_type": "code",
      "metadata": {
        "colab": {
          "base_uri": "https://localhost:8080/",
          "height": 418
        },
        "id": "3divvN2uPDiE",
        "outputId": "93b8863e-81ba-4095-9d67-c6fa87bc3fb5"
      },
      "source": [
        "#problema 3.6\r\n",
        "#construir un diagrama de flujo que dado N numeros enteros como dato,\r\n",
        "#calcule el mayor y menor de estos numero    #Profesor o profesora a este e\r\n",
        "MAY=(-100000)\r\n",
        "MEN= 100000\r\n",
        "N=int(input(\"introduce la cantidad de numeros enteros   \"))\r\n",
        "i=1\r\n",
        "while i <= N:\r\n",
        "  NUM=int(input(\"digite el numero   \"))\r\n",
        "  if NUM> MAY:\r\n",
        "    MAY=NUM\r\n",
        "  else:\r\n",
        "    if NUM<MEN :\r\n",
        "     MEN=NUM\r\n",
        "    else:\r\n",
        "      i=i+1\r\n",
        "  print(\"numero mayor\",MAY)\r\n",
        "  print(\"numero menor\",MEN)#pag133\r\n"
      ],
      "execution_count": null,
      "outputs": [
        {
          "output_type": "stream",
          "text": [
            "introduce la cantidad de numeros enteros   900\n",
            "digite el numero   900\n",
            "numero mayor 900\n",
            "numero menor 900\n",
            "digite el numero   1\n",
            "numero mayor 900\n",
            "numero menor 1\n",
            "digite el numero   1000\n",
            "numero mayor 1000\n",
            "numero menor 1\n",
            "digite el numero   \n"
          ],
          "name": "stdout"
        },
        {
          "output_type": "error",
          "ename": "ValueError",
          "evalue": "ignored",
          "traceback": [
            "\u001b[0;31m---------------------------------------------------------------------------\u001b[0m",
            "\u001b[0;31mValueError\u001b[0m                                Traceback (most recent call last)",
            "\u001b[0;32m<ipython-input-1-cf01f2538872>\u001b[0m in \u001b[0;36m<module>\u001b[0;34m()\u001b[0m\n\u001b[1;32m      7\u001b[0m \u001b[0mi\u001b[0m\u001b[0;34m=\u001b[0m\u001b[0;36m1\u001b[0m\u001b[0;34m\u001b[0m\u001b[0;34m\u001b[0m\u001b[0m\n\u001b[1;32m      8\u001b[0m \u001b[0;32mwhile\u001b[0m \u001b[0mi\u001b[0m \u001b[0;34m<=\u001b[0m \u001b[0mN\u001b[0m\u001b[0;34m:\u001b[0m\u001b[0;34m\u001b[0m\u001b[0;34m\u001b[0m\u001b[0m\n\u001b[0;32m----> 9\u001b[0;31m   \u001b[0mNUM\u001b[0m\u001b[0;34m=\u001b[0m\u001b[0mint\u001b[0m\u001b[0;34m(\u001b[0m\u001b[0minput\u001b[0m\u001b[0;34m(\u001b[0m\u001b[0;34m\"digite el numero   \"\u001b[0m\u001b[0;34m)\u001b[0m\u001b[0;34m)\u001b[0m\u001b[0;34m\u001b[0m\u001b[0;34m\u001b[0m\u001b[0m\n\u001b[0m\u001b[1;32m     10\u001b[0m   \u001b[0;32mwhile\u001b[0m \u001b[0mNUM\u001b[0m\u001b[0;34m>\u001b[0m \u001b[0mMAY\u001b[0m\u001b[0;34m:\u001b[0m\u001b[0;34m\u001b[0m\u001b[0;34m\u001b[0m\u001b[0m\n\u001b[1;32m     11\u001b[0m     \u001b[0mMAY\u001b[0m\u001b[0;34m=\u001b[0m\u001b[0mNUM\u001b[0m\u001b[0;34m\u001b[0m\u001b[0;34m\u001b[0m\u001b[0m\n",
            "\u001b[0;31mValueError\u001b[0m: invalid literal for int() with base 10: ''"
          ]
        }
      ]
    },
    {
      "cell_type": "code",
      "metadata": {
        "id": "3aEDuuksW0tm",
        "colab": {
          "base_uri": "https://localhost:8080/"
        },
        "outputId": "19347c12-1d61-4d0b-b5e2-15d396394b26"
      },
      "source": [
        "#problema 3.7 un vendedor ha hecho una serie de ventas y desea conocer aquellas\r\n",
        "#de $200 o menos, las myores a $200 pero inferiores a $400,ye el numero de ventas de $400\r\n",
        "#o superiores a tal cantidad, Haga un diagrama de flujo que le proporcione la vendedor\r\n",
        "#esta informacion despues de haber leído los datos de entrada.\r\n",
        "MED=0 \r\n",
        "CHI=0\r\n",
        "GRA=0\r\n",
        "N=int(input(\"dame el numero de ventas del vendedor:   \"))\r\n",
        "i=1\r\n",
        "while i <N:\r\n",
        "  V=float(input(\"¿cual fue la venta del vendedor? (v)   \"))\r\n",
        "  if V<=200:\r\n",
        "    CHI=CHI+1\r\n",
        "  else:\r\n",
        "    if V <400:\r\n",
        "     MED=MED+1\r\n",
        "    else:\r\n",
        "      GRA=GRA+1\r\n",
        "  i=1+i\r\n",
        "print(CHI)\r\n",
        "print(MED)\r\n",
        "print(GRA)\r\n",
        "    "
      ],
      "execution_count": null,
      "outputs": [
        {
          "output_type": "stream",
          "text": [
            "dame el numero de ventas del vendedor:   12\n",
            "¿cual fue la venta del vendedor? (v)   180.25\n",
            "¿cual fue la venta del vendedor? (v)   470.30\n",
            "¿cual fue la venta del vendedor? (v)   150.25\n",
            "¿cual fue la venta del vendedor? (v)   88.60\n",
            "¿cual fue la venta del vendedor? (v)   230.15\n",
            "¿cual fue la venta del vendedor? (v)   170.20\n",
            "¿cual fue la venta del vendedor? (v)   40.30\n",
            "¿cual fue la venta del vendedor? (v)   201.90\n",
            "¿cual fue la venta del vendedor? (v)   60.32\n",
            "¿cual fue la venta del vendedor? (v)   280.30\n",
            "¿cual fue la venta del vendedor? (v)   15.70\n",
            "¿cual fue la venta del vendedor? (v)   140.20\n",
            "las ventas fueron 8\n",
            " 3\n",
            " 1\n"
          ],
          "name": "stdout"
        }
      ]
    },
    {
      "cell_type": "code",
      "metadata": {
        "colab": {
          "base_uri": "https://localhost:8080/"
        },
        "id": "Ajg0qBbASQxf",
        "outputId": "4e51c54e-f20a-45ab-fb8f-b90d741e28e3"
      },
      "source": [
        "#problema 3.8\r\n",
        "#La siguiente se llama la conjetura de ULAM en honor del matemático S.Ulam:\r\n",
        "#Comience con cualquier entero positivo\r\n",
        "#Si es par, divídalo entre 2; si es impar, multiplíquelo por 3 y agregúele 1\r\n",
        "#Obtenga enteros sucesivamente repitiendo el proceso.\r\n",
        "#Al final, obtendrá el número 1, independientemente del entero inicial\r\n",
        "# Por ejemplo, cuando el entero inicial es 26, la secuencia será:\r\n",
        "# 26, 13, 40, 20, 10, 5, 16, 8, 4,2, 1.\r\n",
        "#Construya un diagrama de flujo que lea un entero positivo y\r\n",
        "#obtenga e imprima la sucesión de ULAM.\r\n",
        "NUM=int(input(\"ingrese un numero\"))\r\n",
        "if NUM >0 :\r\n",
        "  while NUM <1 and NUM <1 :\r\n",
        "    print(\"el numero es \",NUM)\r\n",
        "    if (-1**(NUM))>0:\r\n",
        "      NUM= NUM/2\r\n",
        "    else:\r\n",
        "      NUM= (NUM*3)+1\r\n",
        "  print(NUM)\r\n",
        "else:    \r\n",
        " print(\"NUM tiene que ser un entero positivo\")      \r\n",
        "\r\n",
        "\r\n"
      ],
      "execution_count": null,
      "outputs": [
        {
          "output_type": "stream",
          "text": [
            "ingrese un numero25\n",
            "25\n"
          ],
          "name": "stdout"
        }
      ]
    },
    {
      "cell_type": "code",
      "metadata": {
        "colab": {
          "base_uri": "https://localhost:8080/"
        },
        "id": "yEoqyIaHWFIA",
        "outputId": "0e32b628-42b4-4fb5-a00e-3a55f67d689e"
      },
      "source": [
        "#problema 3.9\r\n",
        "#Escriba un diagrama de flujo que lea un número entero N \r\n",
        "#y calcule la suma de la siguiente serie\r\n",
        "#l¹+ 2² + 3³ + . . .\r\n",
        "SERIE=0\r\n",
        "N=int(input(\"dadme el numero hasta qdonde termina la serie   \"))\r\n",
        "i=1\r\n",
        "print(0)\r\n",
        "while i<N :\r\n",
        "  SERIE= (SERIE+i**i)\r\n",
        "  i=i+1\r\n",
        "  print(SERIE)\r\n",
        "\r\n"
      ],
      "execution_count": null,
      "outputs": [
        {
          "output_type": "stream",
          "text": [
            "dadme el numero hasta qdonde termina la serie   9\n",
            "0\n",
            "1\n",
            "5\n",
            "32\n",
            "288\n",
            "3413\n",
            "50069\n",
            "873612\n",
            "17650828\n"
          ],
          "name": "stdout"
        }
      ]
    },
    {
      "cell_type": "code",
      "metadata": {
        "colab": {
          "base_uri": "https://localhost:8080/"
        },
        "id": "mBarREn4Z-RF",
        "outputId": "fc892551-5811-4bee-d9e3-45e8f825b34d"
      },
      "source": [
        "#problema 3.10\r\n",
        "#Haga un diagrama de flujo que calcule el término número 180 de la secuencia\r\n",
        "#FIBONACCI.\r\n",
        "#Recuerde que los dos primeros números de la serie son 0 y 1. \r\n",
        "# El resto se calcula como la suma de los dos números inmediatos \r\n",
        "#que le preceden\r\n",
        "PRI=0\r\n",
        "SEG=1\r\n",
        "i=3\r\n",
        "while i <=(180) :\r\n",
        "  SIG=PRI+ SEG\r\n",
        "  PRI=SEG\r\n",
        "  SEG= SIG \r\n",
        "  i=1+i\r\n",
        "print(\"la sucesion es\",SIG)\r\n",
        "print(i)"
      ],
      "execution_count": null,
      "outputs": [
        {
          "output_type": "stream",
          "text": [
            "la sucesion es 11463113765491467695340528626429782121\n",
            "181\n"
          ],
          "name": "stdout"
        }
      ]
    },
    {
      "cell_type": "code",
      "metadata": {
        "colab": {
          "base_uri": "https://localhost:8080/"
        },
        "id": "t1bkWfKXZ1OS",
        "outputId": "b0971ce3-167c-4b5c-f8de-b752cc7255cc"
      },
      "source": [
        "#problema 3.11\r\n",
        "#Supóngase que en una reciente elección hubo cuatro candidatos \r\n",
        "# (con identificadores 1, 2, 3, 4)\r\n",
        "#Usted habrá de encontrar, mediante un programa, el número de\r\n",
        "#votos correspondiente  a cada candidato y el porcentaje que obtuvo\r\n",
        "#respecto al total de los votantes.\r\n",
        "# El usuario tecleará los votos de manera desorganizada,\r\n",
        "#, tal y como se obtuvieron en la elección, \r\n",
        "#el final de datos está representado por un cero\r\n",
        "#Observe, como ejemplo, la siguiente lista #pag 145\r\n",
        "#13142214111213140\r\n",
        "CAN1=0\r\n",
        "CAN2=0\r\n",
        "CAN3=0\r\n",
        "CAN4=0\r\n",
        "VOTO=int(input(\"ingrese el voto:            \"))\r\n",
        "while VOTO >0 and VOTO <0 :\r\n",
        "  if VOTO == 1 :\r\n",
        "    CAN1=CAN1+1\r\n",
        "  if VOTO == 2:\r\n",
        "    CAN2=CAN2+1\r\n",
        "  if VOTO==3 :\r\n",
        "    CAN3=CAN3+1\r\n",
        "  if  VOTO==4:\r\n",
        "    CAN4=CAN4+1\r\n",
        "  VOTO=int(input(\"ingrese el voto:            \"))\r\n",
        "SUMV=CAN1 + CAN2 + CAN3 + CAN4 \r\n",
        "POR1=(CAN1/SUMV)*100\r\n",
        "POR2=(CAN2/SUMV)*100\r\n",
        "POR3=(CAN3/SUMV)*100\r\n",
        "POR4=(CAN4/SUMV)*100\r\n",
        "\r\n",
        "print(\"voto candidato 1\",CAN1,\"porcentaje: \",POR1)\r\n",
        "print(\"voto candidato 2\",CAN2,\"porcentaje: \",POR2)\r\n",
        "print(\"voto candidato 3\",CAN3,\"porcentaje: \",POR3)\r\n",
        "print(\"voto candidato 4\",CAN4,\"porcentaje: \",POR4)\r\n",
        "\r\n",
        " \r\n"
      ],
      "execution_count": null,
      "outputs": [
        {
          "output_type": "stream",
          "text": [
            "ingrese el voto:            1\n",
            "ingrese el voto:            1\n",
            "ingrese el voto:            2\n",
            "ingrese el voto:            1\n",
            "ingrese el voto:            3\n",
            "ingrese el voto:            1\n",
            "ingrese el voto:            1\n",
            "ingrese el voto:            2\n",
            "ingrese el voto:            4\n",
            "ingrese el voto:            4\n",
            "ingrese el voto:            3\n",
            "ingrese el voto:            1\n",
            "ingrese el voto:            1\n",
            "ingrese el voto:            2\n",
            "ingrese el voto:            3\n",
            "ingrese el voto:            1\n",
            "ingrese el voto:            4\n",
            "ingrese el voto:            1\n",
            "ingrese el voto:            2\n",
            "ingrese el voto:            4\n",
            "ingrese el voto:            4\n",
            "ingrese el voto:            2\n",
            "ingrese el voto:            1\n",
            "ingrese el voto:            0\n",
            "voto candidato 1 10 porcentaje:  43.47826086956522\n",
            "voto candidato 2 5 porcentaje:  21.73913043478261\n",
            "voto candidato 3 3 porcentaje:  13.043478260869565\n",
            "voto candidato 4 5 porcentaje:  21.73913043478261\n"
          ],
          "name": "stdout"
        }
      ]
    },
    {
      "cell_type": "code",
      "metadata": {
        "colab": {
          "base_uri": "https://localhost:8080/"
        },
        "id": "kder3JSa6953",
        "outputId": "0b1b0e6d-44ed-4c89-8c48-96498f54b70e"
      },
      "source": [
        "#PROBLEMA 3.12\r\n",
        "#De una empresa con N empleados, necesitamos obtener \r\n",
        "#el número de empleado y sueldo del trabajador con el\r\n",
        "# mayor sueldo de la empresa.Haga el diagrama de\r\n",
        "#flujo correspondiente\r\n",
        "MASUE=0\r\n",
        "N=int(input(\"dame un numero entero\"))\r\n",
        "i=1\r\n",
        "while i<N: \r\n",
        "  NUMEMP=int(input(\"numero de empleado   :\"))\r\n",
        "  SUE=int(input(\"sueldo del empleado    :\"))\r\n",
        "  if SUE > MASUE:\r\n",
        "    MASUE=SUE\r\n",
        "    MANUM=NUMEMP\r\n",
        "  else:\r\n",
        "    i=1+i\r\n",
        "print(\"empleados con mayor sueldo:   \",MANUM)\r\n",
        "print(\"mayor sueldo de los empleados\",MASUE)\r\n"
      ],
      "execution_count": null,
      "outputs": [
        {
          "output_type": "stream",
          "text": [
            "dame un numero entero2\n",
            "numero de empleado   :1235\n",
            "sueldo del empleado    :2580\n",
            "numero de empleado   :1260\n",
            "sueldo del empleado    :1400\n",
            "empleados con mayor sueldo:    1235\n",
            "mayor sueldo de los empleados 2580\n"
          ],
          "name": "stdout"
        }
      ]
    },
    {
      "cell_type": "code",
      "metadata": {
        "colab": {
          "base_uri": "https://localhost:8080/",
          "height": 561
        },
        "id": "kJIPFYnt-9DD",
        "outputId": "26b86068-3cf5-41f2-9245-67c7cec138e1"
      },
      "source": [
        "#problema 3.13\r\n",
        "#En el centro meteorológico de Argentina se llevan los promedios\r\n",
        "#mensuales de las lluvias caídas en las principales regiones\r\n",
        "#cerealeras del pais. Existen 3 regiones importantes denominadas\r\n",
        "#NORTE, CENTRO y SUR. Haga un diagrama de flujo\r\n",
        "#para calcular lo siguiente\r\n",
        "#a) El promedio anual de la región centro.\r\n",
        "#b) El mes y registro con menor lluvia en la región sur\r\n",
        "#c)  La región con mayor lluvia anual (Considere que los\r\n",
        "# registros anuales de las regiones son diferentes).\r\n",
        "ARSU=0 \r\n",
        "ARNO=0\r\n",
        "MERSU=50000\r\n",
        "ARCE=0\r\n",
        "i=1\r\n",
        "while i < 12 :\r\n",
        "  RNO=int(input(\"indica la lluvia caida en la region norte   :\"))\r\n",
        "  RCE=int(input(\"indica la lluvia caida en la region centro  :\"))\r\n",
        "  RSU=int(input(\"indica la lluvia caida en la region sur     :\"))\r\n",
        "  ARNO=ARNO+RNO \r\n",
        "  ARCE=ARCE+ RCE \r\n",
        "  ARSU = ARSU+RSU \r\n",
        "  if RSU < MERSU :\r\n",
        "    MERSU=RSU \r\n",
        "    MES=i\r\n",
        "  i=i+1 \r\n",
        "PRORCE= ARCE/12\r\n",
        "print(\"Pomedio region centro: \",PRORCE)\r\n",
        "print(\"Mes con menor lluvia REG sur:\",MES)\r\n",
        "print(\"Registro del mes\",MERSU)\r\n",
        "if ARMO > ARCE :\r\n",
        "  if ARMO > ARSU :\r\n",
        "    print(\"la region conmenor lluvia es la region norte\")\r\n",
        "  else:\r\n",
        "    print(\"la region con mayor lluvia es la region sur\")\r\n",
        "else:\r\n",
        "  if ARCE > ARSU :\r\n",
        "    print(\"la region con mallor lluvia esla region centro\")\r\n",
        "  else:\r\n",
        "    print(\"la region con mayor lluvia es la region sur\")"
      ],
      "execution_count": null,
      "outputs": [
        {
          "output_type": "error",
          "ename": "KeyboardInterrupt",
          "evalue": "ignored",
          "traceback": [
            "\u001b[0;31m---------------------------------------------------------------------------\u001b[0m",
            "\u001b[0;31mKeyboardInterrupt\u001b[0m                         Traceback (most recent call last)",
            "\u001b[0;32m/usr/local/lib/python3.6/dist-packages/ipykernel/kernelbase.py\u001b[0m in \u001b[0;36m_input_request\u001b[0;34m(self, prompt, ident, parent, password)\u001b[0m\n\u001b[1;32m    728\u001b[0m             \u001b[0;32mtry\u001b[0m\u001b[0;34m:\u001b[0m\u001b[0;34m\u001b[0m\u001b[0;34m\u001b[0m\u001b[0m\n\u001b[0;32m--> 729\u001b[0;31m                 \u001b[0mident\u001b[0m\u001b[0;34m,\u001b[0m \u001b[0mreply\u001b[0m \u001b[0;34m=\u001b[0m \u001b[0mself\u001b[0m\u001b[0;34m.\u001b[0m\u001b[0msession\u001b[0m\u001b[0;34m.\u001b[0m\u001b[0mrecv\u001b[0m\u001b[0;34m(\u001b[0m\u001b[0mself\u001b[0m\u001b[0;34m.\u001b[0m\u001b[0mstdin_socket\u001b[0m\u001b[0;34m,\u001b[0m \u001b[0;36m0\u001b[0m\u001b[0;34m)\u001b[0m\u001b[0;34m\u001b[0m\u001b[0;34m\u001b[0m\u001b[0m\n\u001b[0m\u001b[1;32m    730\u001b[0m             \u001b[0;32mexcept\u001b[0m \u001b[0mException\u001b[0m\u001b[0;34m:\u001b[0m\u001b[0;34m\u001b[0m\u001b[0;34m\u001b[0m\u001b[0m\n",
            "\u001b[0;32m/usr/local/lib/python3.6/dist-packages/jupyter_client/session.py\u001b[0m in \u001b[0;36mrecv\u001b[0;34m(self, socket, mode, content, copy)\u001b[0m\n\u001b[1;32m    802\u001b[0m         \u001b[0;32mtry\u001b[0m\u001b[0;34m:\u001b[0m\u001b[0;34m\u001b[0m\u001b[0;34m\u001b[0m\u001b[0m\n\u001b[0;32m--> 803\u001b[0;31m             \u001b[0mmsg_list\u001b[0m \u001b[0;34m=\u001b[0m \u001b[0msocket\u001b[0m\u001b[0;34m.\u001b[0m\u001b[0mrecv_multipart\u001b[0m\u001b[0;34m(\u001b[0m\u001b[0mmode\u001b[0m\u001b[0;34m,\u001b[0m \u001b[0mcopy\u001b[0m\u001b[0;34m=\u001b[0m\u001b[0mcopy\u001b[0m\u001b[0;34m)\u001b[0m\u001b[0;34m\u001b[0m\u001b[0;34m\u001b[0m\u001b[0m\n\u001b[0m\u001b[1;32m    804\u001b[0m         \u001b[0;32mexcept\u001b[0m \u001b[0mzmq\u001b[0m\u001b[0;34m.\u001b[0m\u001b[0mZMQError\u001b[0m \u001b[0;32mas\u001b[0m \u001b[0me\u001b[0m\u001b[0;34m:\u001b[0m\u001b[0;34m\u001b[0m\u001b[0;34m\u001b[0m\u001b[0m\n",
            "\u001b[0;32m/usr/local/lib/python3.6/dist-packages/zmq/sugar/socket.py\u001b[0m in \u001b[0;36mrecv_multipart\u001b[0;34m(self, flags, copy, track)\u001b[0m\n\u001b[1;32m    565\u001b[0m         \"\"\"\n\u001b[0;32m--> 566\u001b[0;31m         \u001b[0mparts\u001b[0m \u001b[0;34m=\u001b[0m \u001b[0;34m[\u001b[0m\u001b[0mself\u001b[0m\u001b[0;34m.\u001b[0m\u001b[0mrecv\u001b[0m\u001b[0;34m(\u001b[0m\u001b[0mflags\u001b[0m\u001b[0;34m,\u001b[0m \u001b[0mcopy\u001b[0m\u001b[0;34m=\u001b[0m\u001b[0mcopy\u001b[0m\u001b[0;34m,\u001b[0m \u001b[0mtrack\u001b[0m\u001b[0;34m=\u001b[0m\u001b[0mtrack\u001b[0m\u001b[0;34m)\u001b[0m\u001b[0;34m]\u001b[0m\u001b[0;34m\u001b[0m\u001b[0;34m\u001b[0m\u001b[0m\n\u001b[0m\u001b[1;32m    567\u001b[0m         \u001b[0;31m# have first part already, only loop while more to receive\u001b[0m\u001b[0;34m\u001b[0m\u001b[0;34m\u001b[0m\u001b[0;34m\u001b[0m\u001b[0m\n",
            "\u001b[0;32mzmq/backend/cython/socket.pyx\u001b[0m in \u001b[0;36mzmq.backend.cython.socket.Socket.recv\u001b[0;34m()\u001b[0m\n",
            "\u001b[0;32mzmq/backend/cython/socket.pyx\u001b[0m in \u001b[0;36mzmq.backend.cython.socket.Socket.recv\u001b[0;34m()\u001b[0m\n",
            "\u001b[0;32mzmq/backend/cython/socket.pyx\u001b[0m in \u001b[0;36mzmq.backend.cython.socket._recv_copy\u001b[0;34m()\u001b[0m\n",
            "\u001b[0;32m/usr/local/lib/python3.6/dist-packages/zmq/backend/cython/checkrc.pxd\u001b[0m in \u001b[0;36mzmq.backend.cython.checkrc._check_rc\u001b[0;34m()\u001b[0m\n",
            "\u001b[0;31mKeyboardInterrupt\u001b[0m: ",
            "\nDuring handling of the above exception, another exception occurred:\n",
            "\u001b[0;31mKeyboardInterrupt\u001b[0m                         Traceback (most recent call last)",
            "\u001b[0;32m<ipython-input-1-15b0b87349c5>\u001b[0m in \u001b[0;36m<module>\u001b[0;34m()\u001b[0m\n\u001b[1;32m     15\u001b[0m \u001b[0mi\u001b[0m\u001b[0;34m=\u001b[0m\u001b[0;36m1\u001b[0m\u001b[0;34m\u001b[0m\u001b[0;34m\u001b[0m\u001b[0m\n\u001b[1;32m     16\u001b[0m \u001b[0;32mwhile\u001b[0m \u001b[0mi\u001b[0m \u001b[0;34m<\u001b[0m \u001b[0;36m12\u001b[0m \u001b[0;34m:\u001b[0m\u001b[0;34m\u001b[0m\u001b[0;34m\u001b[0m\u001b[0m\n\u001b[0;32m---> 17\u001b[0;31m   \u001b[0mRNO\u001b[0m\u001b[0;34m=\u001b[0m\u001b[0mint\u001b[0m\u001b[0;34m(\u001b[0m\u001b[0minput\u001b[0m\u001b[0;34m(\u001b[0m\u001b[0;34m\"indica la lluvia caida en la region norte   :\"\u001b[0m\u001b[0;34m)\u001b[0m\u001b[0;34m)\u001b[0m\u001b[0;34m\u001b[0m\u001b[0;34m\u001b[0m\u001b[0m\n\u001b[0m\u001b[1;32m     18\u001b[0m   \u001b[0mRCE\u001b[0m\u001b[0;34m=\u001b[0m\u001b[0mint\u001b[0m\u001b[0;34m(\u001b[0m\u001b[0minput\u001b[0m\u001b[0;34m(\u001b[0m\u001b[0;34m\"indica la lluvia caida en la region centro  :\"\u001b[0m\u001b[0;34m)\u001b[0m\u001b[0;34m)\u001b[0m\u001b[0;34m\u001b[0m\u001b[0;34m\u001b[0m\u001b[0m\n\u001b[1;32m     19\u001b[0m   \u001b[0mRSU\u001b[0m\u001b[0;34m=\u001b[0m\u001b[0mint\u001b[0m\u001b[0;34m(\u001b[0m\u001b[0minput\u001b[0m\u001b[0;34m(\u001b[0m\u001b[0;34m\"indica la lluvia caida en la region sur     :\"\u001b[0m\u001b[0;34m)\u001b[0m\u001b[0;34m)\u001b[0m\u001b[0;34m\u001b[0m\u001b[0;34m\u001b[0m\u001b[0m\n",
            "\u001b[0;32m/usr/local/lib/python3.6/dist-packages/ipykernel/kernelbase.py\u001b[0m in \u001b[0;36mraw_input\u001b[0;34m(self, prompt)\u001b[0m\n\u001b[1;32m    702\u001b[0m             \u001b[0mself\u001b[0m\u001b[0;34m.\u001b[0m\u001b[0m_parent_ident\u001b[0m\u001b[0;34m,\u001b[0m\u001b[0;34m\u001b[0m\u001b[0;34m\u001b[0m\u001b[0m\n\u001b[1;32m    703\u001b[0m             \u001b[0mself\u001b[0m\u001b[0;34m.\u001b[0m\u001b[0m_parent_header\u001b[0m\u001b[0;34m,\u001b[0m\u001b[0;34m\u001b[0m\u001b[0;34m\u001b[0m\u001b[0m\n\u001b[0;32m--> 704\u001b[0;31m             \u001b[0mpassword\u001b[0m\u001b[0;34m=\u001b[0m\u001b[0;32mFalse\u001b[0m\u001b[0;34m,\u001b[0m\u001b[0;34m\u001b[0m\u001b[0;34m\u001b[0m\u001b[0m\n\u001b[0m\u001b[1;32m    705\u001b[0m         )\n\u001b[1;32m    706\u001b[0m \u001b[0;34m\u001b[0m\u001b[0m\n",
            "\u001b[0;32m/usr/local/lib/python3.6/dist-packages/ipykernel/kernelbase.py\u001b[0m in \u001b[0;36m_input_request\u001b[0;34m(self, prompt, ident, parent, password)\u001b[0m\n\u001b[1;32m    732\u001b[0m             \u001b[0;32mexcept\u001b[0m \u001b[0mKeyboardInterrupt\u001b[0m\u001b[0;34m:\u001b[0m\u001b[0;34m\u001b[0m\u001b[0;34m\u001b[0m\u001b[0m\n\u001b[1;32m    733\u001b[0m                 \u001b[0;31m# re-raise KeyboardInterrupt, to truncate traceback\u001b[0m\u001b[0;34m\u001b[0m\u001b[0;34m\u001b[0m\u001b[0;34m\u001b[0m\u001b[0m\n\u001b[0;32m--> 734\u001b[0;31m                 \u001b[0;32mraise\u001b[0m \u001b[0mKeyboardInterrupt\u001b[0m\u001b[0;34m\u001b[0m\u001b[0;34m\u001b[0m\u001b[0m\n\u001b[0m\u001b[1;32m    735\u001b[0m             \u001b[0;32melse\u001b[0m\u001b[0;34m:\u001b[0m\u001b[0;34m\u001b[0m\u001b[0;34m\u001b[0m\u001b[0m\n\u001b[1;32m    736\u001b[0m                 \u001b[0;32mbreak\u001b[0m\u001b[0;34m\u001b[0m\u001b[0;34m\u001b[0m\u001b[0m\n",
            "\u001b[0;31mKeyboardInterrupt\u001b[0m: "
          ]
        }
      ]
    },
    {
      "cell_type": "code",
      "metadata": {
        "colab": {
          "base_uri": "https://localhost:8080/"
        },
        "id": "-Qn31gqtIVN_",
        "outputId": "904813fb-7083-41c9-f59b-eee53c24c987"
      },
      "source": [
        "#problema 3.14\r\n",
        "#En un estadio se tienen 5 tipos diferentes de localidades, \r\n",
        "#las cuales se identifican por una clave numérica que es un\r\n",
        "# valor comprendido entre 1 y 5. Los precios de cada localidad\r\n",
        "# y los datos referentes a las ventas de boletos para el próximo\r\n",
        "#juego se proporcionan como sigue\r\n",
        "#Construya un diagrama de flujo que:\r\n",
        "#a) Lea los precios.\r\n",
        "#b) Lea los datos de las ventas de boletos.\r\n",
        "#c) Imprima para cada venta, la clave, la cantidad y el importe total\r\n",
        "# de los boletos\r\n",
        "#vendidos en esta venta.\r\n",
        "#d) Calcule e imprima la cantidad de boletos vendidos de cada tipo.\r\n",
        "#e) Calcule e imprima la recaudación total del estadio\r\n",
        "AP1=0\r\n",
        "AP2=0\r\n",
        "AP3=0\r\n",
        "AP4=0\r\n",
        "AP5=0\r\n",
        "RECAU=0\r\n",
        "P1=float(input(\"precio de la localidad 1 :\"))\r\n",
        "P2=float(input(\"precio de la localidad 2 :\"))\r\n",
        "P3=float(input(\"precio de la localidad 3 :\"))\r\n",
        "p4=float(input(\"precio de la localidad 4 :\"))\r\n",
        "CLAVE=int(input(\"tipo de localidad de la venta(clave):  \"))\r\n",
        "CANT=int(input(\"boletos vendidos : \"))\r\n",
        "while CLAVE !=-1 and CANT !=-1:\r\n",
        "  if CLAVE==1:\r\n",
        "    PRE=P1*CANT\r\n",
        "    AP1=AP1+CANT\r\n",
        "  if CLAVE== 2:\r\n",
        "    PRE=P2*CANT\r\n",
        "    AP2=AP2+CANT\r\n",
        "  if CLAVE==3:\r\n",
        "    PRE=P3*CANT\r\n",
        "    AP3=AP3+CANT\r\n",
        "  if CLAVE==4:\r\n",
        "    PRE=P4*CANT \r\n",
        "    AP4=AP4+CANT\r\n",
        "  if CLAVE==5:\r\n",
        "    PRE=P5*CANT\r\n",
        "    AP5=AP5+CANT\r\n",
        "  print(CLAVE)\r\n",
        "  print(CANT)\r\n",
        "  print( PRE)\r\n",
        "  RECAU=RECAU+PRE\r\n",
        "  CLAVE=int(input(\"tipo de localidad de la venta:  \"))\r\n",
        "  CANT=int(input(\"boletos vendidos : \"))\r\n",
        "print(\"cantidad de boletos tipo1\",AP1)\r\n",
        "print(\"cantidad de boletos tipo2\",AP2)\r\n",
        "print(\"cantidad de boletos tipo3\",AP3)\r\n",
        "print(\"cantidad de boletos tipo4\",AP4)\r\n",
        "print(\"recaudacion del estado\", RECAU)\r\n"
      ],
      "execution_count": null,
      "outputs": [
        {
          "output_type": "stream",
          "text": [
            "precio de la localidad 1 :7.25\n",
            "precio de la localidad 2 :15.80\n",
            "precio de la localidad 3 :25.00\n",
            "precio de la localidad 4 :50.00\n",
            "tipo de localidad de la venta(clave):  3\n",
            "boletos vendidos : 8\n",
            "3\n",
            "8\n",
            "200.0\n",
            "tipo de localidad de la venta:  2\n",
            "boletos vendidos : 4\n",
            "2\n",
            "4\n",
            "63.2\n",
            "tipo de localidad de la venta:  1\n",
            "boletos vendidos : 6\n",
            "1\n",
            "6\n",
            "43.5\n",
            "tipo de localidad de la venta:  0\n",
            "boletos vendidos : -1\n",
            "cantidad de boletos tipo1 6\n",
            "cantidad de boletos tipo2 4\n",
            "cantidad de boletos tipo3 8\n",
            "cantidad de boletos tipo4 0\n",
            "recaudacion del estado 306.7\n"
          ],
          "name": "stdout"
        }
      ]
    },
    {
      "cell_type": "code",
      "metadata": {
        "colab": {
          "base_uri": "https://localhost:8080/",
          "height": 129
        },
        "id": "_DaD7piUTivs",
        "outputId": "a1f41b56-3991-47f1-ed87-02a4c3d8b73b"
      },
      "source": [
        "#problema 3.15\r\n",
        "#Haga un diagrama de flujo para calcular lo que hay que pagar por un\r\n",
        "#conjunto de llamadas telefónicas. Por cada llamada se ingresa\r\n",
        "#el tipo (Internacional, Nacional, Local) y la duracion en minutos\r\n",
        "#El criterio que se sigue para calcular el costo de cada\r\n",
        "#llamada es el siguiente\r\n",
        "#Internacional: 3 primeros minutos $7.59\r\n",
        "#Cada minuto adicional $3.03\r\n",
        "#Nacional: 3 primeros minutos $1.20                    #pag158\r\n",
        "#Cada minuto adicional $0.48\r\n",
        "#local:Las primeras 50 llamadas no se cobran.\r\n",
        "#Luego, cada llamada cuesta $0.60\r\n",
        "CL=0\r\n",
        "CUENTA=0            #esta no supe como hacerla profe\r\n",
        "TIPO=int(input(\"tipo de la llamada  :\"))\r\n",
        "DUR=int(input(\"duracion de la llamada en minutos \"))\r\n",
        "x=1\r\n",
        "\r\n",
        "if TIPO=\"X\" :\r\n",
        "  print(\"xd\")\r\n"
      ],
      "execution_count": null,
      "outputs": [
        {
          "output_type": "error",
          "ename": "SyntaxError",
          "evalue": "ignored",
          "traceback": [
            "\u001b[0;36m  File \u001b[0;32m\"<ipython-input-30-5d2c0cf649bd>\"\u001b[0;36m, line \u001b[0;32m17\u001b[0m\n\u001b[0;31m    if TIPO=\"X\" :\u001b[0m\n\u001b[0m           ^\u001b[0m\n\u001b[0;31mSyntaxError\u001b[0m\u001b[0;31m:\u001b[0m invalid syntax\n"
          ]
        }
      ]
    },
    {
      "cell_type": "code",
      "metadata": {
        "colab": {
          "base_uri": "https://localhost:8080/"
        },
        "id": "hAcJY3MGWwiA",
        "outputId": "5703a409-766c-4dae-842f-d57afef2280d"
      },
      "source": [
        "#problema 3.16\r\n",
        "#En una bodega se tiene información sobre las cantidades\r\n",
        "#producidas de cada tipo de vino, a lo largo de los ultimos\r\n",
        "#años. Haga un diagrama de flujo que calcule e imprima lo sigueinte:\r\n",
        "#a) El total producido de cada tipo de vino \r\n",
        "#(son 5 tipos) a lo largo de los N años.\r\n",
        "#b) El total producido de vino por año.\r\n",
        "#c) Año en que se produjo la mayor cantidad de litros de vino del \r\n",
        "#tipo 2. Imprimir también la cantidad de litros.\r\n",
        "#d)Verificar si hubo algún año en el cual no se produjo el vino tipo3.\r\n",
        "# Si existe dicho año, imprimirlo.\r\n",
        "TIPO1=0\r\n",
        "TIPO2=0\r\n",
        "TIPO3=0\r\n",
        "TIPO4=0\r\n",
        "TIPO5=0\r\n",
        "MCTIPO2=0\r\n",
        "N=int(input(\"numero de años  :\"))\r\n",
        "i=1\r\n",
        "while i< N:\r\n",
        "  J=1\r\n",
        "  TOTVIN=0\r\n",
        "  while J < 5:\r\n",
        "    V=float(input(\"litros de vino\"))\r\n",
        "    TOTVIN=TOTVIN+V \r\n",
        "    if J==1:\r\n",
        "      TIPO1=TIPO1+V\r\n",
        "    if J==2:\r\n",
        "      TIPO2=TIPO2+V \r\n",
        "      if V > MCTIPO2:\r\n",
        "        MCTIPO2=V \r\n",
        "        AÑO=1\r\n",
        "    if J==3:\r\n",
        "      TIPO3=TIPO3 + V\r\n",
        "      if V==0:\r\n",
        "        print(\"el año: \",i)\r\n",
        "        print(\"no se produjo vino tipo3\")\r\n",
        "    if J==4:\r\n",
        "      TIPO4=TIPO4+V      \r\n",
        "    if J==5:\r\n",
        "      TIPO5=TIPO5+V \r\n",
        "    J=J+1\r\n",
        "  print(\"TOTAL DE LITROS PRODUCIDOS POR AÑO: \", TOTVIN)\r\n",
        "  i=i+1    \r\n",
        "print(\"TOTAL TIPO1:\",TIPO1)    \r\n",
        "print(\"TOTAL TIPO2:\",TIPO2)   \r\n",
        "print(\"TOTAL TIPO3:\",TIPO3)   \r\n",
        "print(\"TOTAL TIPO4:\",TIPO4)   \r\n",
        "print(\"TOTAL TIPO5:\",TIPO5)   \r\n",
        "print(\"AÑO EN QUE SE PRODUJO MAYOR CANTIDAD VINO TIPO2\",AÑO,)\r\n",
        "print(\"litros:\",MCTIPO2)\r\n",
        "\r\n",
        "            "
      ],
      "execution_count": null,
      "outputs": [
        {
          "output_type": "stream",
          "text": [
            "numero de años  :1\n",
            "TOTAL TIPO1: 0\n",
            "TOTAL TIPO2: 0\n",
            "TOTAL TIPO3: 0\n",
            "TOTAL TIPO4: 0\n",
            "TOTAL TIPO5: 0\n",
            "AÑO EN QUE SE PRODUJO MAYOR CANTIDAD VINO TIPO2 1\n",
            "litros: 0\n"
          ],
          "name": "stdout"
        }
      ]
    },
    {
      "cell_type": "code",
      "metadata": {
        "colab": {
          "base_uri": "https://localhost:8080/"
        },
        "id": "erK5dvcLe885",
        "outputId": "da0c71f3-32f4-429d-f455-370c08e79fe4"
      },
      "source": [
        "i=3\r\n",
        "SP =0\r\n",
        "M=int(input(\"numero limite :\"))\r\n",
        "if M>1:\r\n",
        "  SP=SP+1\r\n",
        "  print(\"numero primo  :\",\"1\")\r\n",
        "  if M>2:\r\n",
        "    SP=SP+1\r\n",
        "    print(\"numero primo\",\"2\")\r\n",
        "while i<M :\r\n",
        "  BAND=True\r\n",
        "  J=3\r\n",
        "  while J< (i/2) and BAND==True:\r\n",
        "    if (i % J)==0:\r\n",
        "      BAND=False \r\n",
        "    J=J+2 \r\n",
        "  if BAND == True :\r\n",
        "    print(\"numero primo\",i)\r\n",
        "    SP=SP+1 \r\n",
        "  i=i+2\r\n",
        "print(\"Entre1 y m hay\",SP,\"numeros primos\")\r\n",
        "\r\n",
        "\r\n",
        "\r\n"
      ],
      "execution_count": null,
      "outputs": [
        {
          "output_type": "stream",
          "text": [
            "numero limite :5\n",
            "numero primo  : 1\n",
            "numero primo 2\n",
            "numero primo 3\n",
            "Entre1 y m hay 3 numeros primos\n"
          ],
          "name": "stdout"
        }
      ]
    },
    {
      "cell_type": "code",
      "metadata": {
        "colab": {
          "base_uri": "https://localhost:8080/"
        },
        "id": "9_nlweubfMdx",
        "outputId": "75f2d684-b9cb-4729-a336-d60ca6417d7d"
      },
      "source": [
        "#problema 3.18 \r\n",
        "#los datos reunidos en la Secretaría de Industrias relacionado a la\r\n",
        "#producción de N fábricas (N < 1000)  en cada uno de los meses del\r\n",
        "#año anterior, \r\n",
        "#Haga un diagrama de flujo que calcule lo siguiente:\r\n",
        "#a) Los totales anuales de producción de cada fábrica.\r\n",
        "#b) La clave de la fábrica que más produjo en el año. \r\n",
        "#Indicar también el total de la producción.\r\n",
        "#c) Imprimir las claves de las fábricas cuyas producciones en el mes de julio superaron los $ 3 000 000.\r\n",
        "MAYPRO=0\r\n",
        "N=int(input(\"numero de fabricas registradas   :\"))\r\n",
        "if N < 100 :\r\n",
        "  i=1\r\n",
        "  while 1< N :\r\n",
        "    FABRICA=int(input(\"clave que identifica la fabrica\"))\r\n",
        "    TOTANU=0\r\n",
        "    J=1\r\n",
        "    i=1\r\n",
        "    while J < 12:\r\n",
        "      MES=float(input(\"produccion de la fabrica en el mes\"))\r\n",
        "      TOTANU=TOTANU+MES\r\n",
        "      if J==7 :\r\n",
        "        print(FABRICA)\r\n",
        "      J=J+1\r\n",
        "    if TOTANU>MAYPRO:\r\n",
        "      MAYPRO=TOTANU\r\n",
        "      CLAVE=FABRICA \r\n",
        "    print(\"produccion anual fabrica \",FABRICA,\"$\",TOTANU)\r\n",
        "    i=i+1\r\n",
        "  print(\"Fabrica que mas produjo en el año :\",CLAVE,\"produccion  $\",TOTANU)\r\n",
        "  i=i+1\r\n",
        "print(\"error en numero de fabricas\")\r\n"
      ],
      "execution_count": null,
      "outputs": [
        {
          "output_type": "stream",
          "text": [
            "numero de fabricas registradas   :0\n",
            "Fabrica que mas produjo en el año : 5 produccion  $ 0.0\n",
            "error en numero de fabricas\n"
          ],
          "name": "stdout"
        }
      ]
    },
    {
      "cell_type": "code",
      "metadata": {
        "colab": {
          "base_uri": "https://localhost:8080/"
        },
        "id": "R2AMIH2xruzs",
        "outputId": "fff9a0a8-ac9b-4a2b-d3e7-05051d97efd1"
      },
      "source": [
        "#problema 3.19 \r\n",
        "#Un número es perfecto si “la suma de sus divisores excepto el mismo es\r\n",
        "# igual al propio número”. Haga un diagrama de flujo  para calcular e \r\n",
        "#imprimir los números perfectos menores o iguales que N.\r\n",
        "N=int(input(\"limite de los numeros naturales  : \"))\r\n",
        "i=1\r\n",
        "while i <= N :\r\n",
        "  SUM=0\r\n",
        "  J=1\r\n",
        "  while J <= (i/2):\r\n",
        "    if (i % J)==0 :\r\n",
        "      SUM= SUM+J\r\n",
        "    J=J+1\r\n",
        "  if SUM==1 :\r\n",
        "    print(i  ,\"  es un numero perfecto\")\r\n",
        "  i=i+1\r\n",
        "\r\n",
        "\r\n"
      ],
      "execution_count": null,
      "outputs": [
        {
          "output_type": "stream",
          "text": [
            "limite de los numeros naturales  : 6\n",
            "2   es un numero perfecto\n",
            "3   es un numero perfecto\n",
            "5   es un numero perfecto\n"
          ],
          "name": "stdout"
        }
      ]
    }
  ]
}