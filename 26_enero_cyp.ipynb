{
  "nbformat": 4,
  "nbformat_minor": 0,
  "metadata": {
    "colab": {
      "name": "26_enero_cyp.ipynb",
      "provenance": [],
      "authorship_tag": "ABX9TyN8jhzS2ktrijcmr1FWKTmh",
      "include_colab_link": true
    },
    "kernelspec": {
      "name": "python3",
      "display_name": "Python 3"
    }
  },
  "cells": [
    {
      "cell_type": "markdown",
      "metadata": {
        "id": "view-in-github",
        "colab_type": "text"
      },
      "source": [
        "<a href=\"https://colab.research.google.com/github/ludwin1/cyp_2021/blob/main/26_enero_cyp.ipynb\" target=\"_parent\"><img src=\"https://colab.research.google.com/assets/colab-badge.svg\" alt=\"Open In Colab\"/></a>"
      ]
    },
    {
      "cell_type": "code",
      "metadata": {
        "id": "Psc9nBq8sxzb"
      },
      "source": [
        ""
      ],
      "execution_count": null,
      "outputs": []
    },
    {
      "cell_type": "markdown",
      "metadata": {
        "id": "AsAGeoX-s7ct"
      },
      "source": [
        "#listas de python\r\n",
        "1. es una estructura de datos ñineal\r\n",
        "de 0 o n elementos,\r\n",
        "1. \"equivalente a os arreglos,\r\n",
        "1. pueden ser de diferente tipo de dato[1,2,3,32,12] , [1,true,2.34, hola]\r\n",
        "1. ´pueden ser anidados, listas de listas[\"melon,[\"manzana roja\"], [\"manzana amarilla\"]]\r\n",
        "su elector es de la fforma [int]\r\n",
        "son mutables\r\n"
      ]
    },
    {
      "cell_type": "code",
      "metadata": {
        "id": "AvCeTIlQu8Yf"
      },
      "source": [
        "colores=[\"4,2,45,7,893,3\"]"
      ],
      "execution_count": null,
      "outputs": []
    },
    {
      "cell_type": "code",
      "metadata": {
        "colab": {
          "base_uri": "https://localhost:8080/"
        },
        "id": "NIY0rX9mwIr1",
        "outputId": "a2c02e06-fc78-46b8-b5db-a37f8324a3dc"
      },
      "source": [
        "#pueden ser dediferente tipo de datos\r\n",
        "mi_lista=[1,2,3,\"jose\",False,1.76,[552345653,445512123]]\r\n",
        "print(mi_lista)\r\n",
        "print(mi_lista[5])\r\n",
        "print(mi_lista[3][3])\r\n",
        "print(mi_lista[3][-1::])\r\n"
      ],
      "execution_count": 8,
      "outputs": [
        {
          "output_type": "stream",
          "text": [
            "[1, 2, 3, 'jose', False, 1.76, [552345653, 445512123]]\n",
            "1.76\n",
            "e\n",
            "e\n"
          ],
          "name": "stdout"
        }
      ]
    },
    {
      "cell_type": "code",
      "metadata": {
        "colab": {
          "base_uri": "https://localhost:8080/"
        },
        "id": "zDU0bPBi0rHP",
        "outputId": "003780c7-4173-4362-d770-861ebdb3e9f4"
      },
      "source": [
        "frutas=[\"melon\",\"sandia\",\"kiwi\",\"aguacate\",\"mango\",\"platano\",\"sandia\"]\r\n",
        "print(frutas)\r\n",
        "frutas[0]=\"melon\"\r\n",
        "print(frutas)\r\n",
        "print(frutas)\r\n",
        "#frutas[1][0]=\"s\"\r\n",
        "frutas[1]= frutas[1].capitalize()\r\n",
        "print(frutas)"
      ],
      "execution_count": 12,
      "outputs": [
        {
          "output_type": "stream",
          "text": [
            "['melon', 'sandia', 'kiwi', 'aguacate', 'mango', 'platano', 'sandia']\n",
            "['melon', 'sandia', 'kiwi', 'aguacate', 'mango', 'platano', 'sandia']\n",
            "['melon', 'sandia', 'kiwi', 'aguacate', 'mango', 'platano', 'sandia']\n",
            "['melon', 'Sandia', 'kiwi', 'aguacate', 'mango', 'platano', 'sandia']\n"
          ],
          "name": "stdout"
        }
      ]
    },
    {
      "cell_type": "code",
      "metadata": {
        "colab": {
          "base_uri": "https://localhost:8080/"
        },
        "id": "6E2L7wx-2Mvn",
        "outputId": "96e627d0-de9d-4a26-d0ae-b0958d47cdec"
      },
      "source": [
        "#las listas son clases por lo tanto, tienen metodos.\r\n",
        "#ejemplo:append,agrega un elemento al final\r\n",
        "\r\n",
        "frutas=[\"melon\",\"sandia\",\"kiwi\",\"aguacate\",\"mango\",\"platano\",\"sandia\"]\r\n",
        "frutas.append(\"fresa\")\r\n",
        "print(frutas)\r\n",
        "print(\"ejemplo de copias\")\r\n",
        "otras_frutas=frutas\r\n",
        "print(otras_frutas)\r\n",
        "otras_frutas[0]=(\"chico zapote\")\r\n",
        "print(\"----------------\")\r\n",
        "\r\n",
        "print(\"ejemplo de extend\")\r\n",
        "\r\n",
        "colores=[\"rojo\",\"verde\",\"azul\"]\r\n",
        "frutas.append(colores)\r\n",
        "print(frutas)\r\n",
        "print(\"ejemplo insert\")\r\n",
        "print(f\"tamaño de la lista ={len(frutas)}\")\r\n",
        "frutas.insert(3,\"limón\")\r\n",
        "print(f\"tamaño de la lista ={len(frutas)}\")\r\n",
        "print(frutas)\r\n",
        "print(\"ejemlo remove, eliminar kiwi\")\r\n",
        "frutas.remove(\"kiwi\")\r\n",
        "print(frutas)\r\n",
        "\r\n",
        "print(\"ejemplo con operador  del\")\r\n",
        "del frutas[2]#operador de listas\r\n",
        "print(frutas)\r\n",
        "\r\n",
        "frutas.clear()\r\n",
        "print(frutas)"
      ],
      "execution_count": 23,
      "outputs": [
        {
          "output_type": "stream",
          "text": [
            "['melon', 'sandia', 'kiwi', 'aguacate', 'mango', 'platano', 'sandia', 'fresa']\n",
            "ejemplo de copias\n",
            "['melon', 'sandia', 'kiwi', 'aguacate', 'mango', 'platano', 'sandia', 'fresa']\n",
            "----------------\n",
            "ejemplo de extend\n",
            "['chico zapote', 'sandia', 'kiwi', 'aguacate', 'mango', 'platano', 'sandia', 'fresa', ['rojo', 'verde', 'azul']]\n",
            "ejemplo insert\n",
            "tamaño de la lista =9\n",
            "tamaño de la lista =10\n",
            "['chico zapote', 'sandia', 'kiwi', 'limón', 'aguacate', 'mango', 'platano', 'sandia', 'fresa', ['rojo', 'verde', 'azul']]\n",
            "ejemlo remove, eliminar kiwi\n",
            "['chico zapote', 'sandia', 'limón', 'aguacate', 'mango', 'platano', 'sandia', 'fresa', ['rojo', 'verde', 'azul']]\n",
            "ejemplo del\n",
            "[]\n"
          ],
          "name": "stdout"
        }
      ]
    },
    {
      "cell_type": "code",
      "metadata": {
        "colab": {
          "base_uri": "https://localhost:8080/"
        },
        "id": "uVx4P5hJ-9IY",
        "outputId": "8afee1e5-eccc-4b5f-ef99-31a644a21eb5"
      },
      "source": [
        "cosas=[\"jose\",True,2,3,4,5,\"pedro\",1.23]\r\n",
        "\r\n",
        "for elemento in cosas:\r\n",
        "  print(type(elemento))\r\n",
        "  if type(elemento)=='int':\r\n",
        "    print(\"entero\")"
      ],
      "execution_count": 28,
      "outputs": [
        {
          "output_type": "stream",
          "text": [
            "<class 'str'>\n",
            "<class 'bool'>\n",
            "<class 'int'>\n",
            "<class 'int'>\n",
            "<class 'int'>\n",
            "<class 'int'>\n",
            "<class 'str'>\n",
            "<class 'float'>\n"
          ],
          "name": "stdout"
        }
      ]
    },
    {
      "cell_type": "code",
      "metadata": {
        "colab": {
          "base_uri": "https://localhost:8080/"
        },
        "id": "ekC_561ECPAV",
        "outputId": "936ac2ed-3a86-4e57-b7f1-84e736dddbed"
      },
      "source": [
        "cosas=[\"jose\",True,2,3,4,5,\"pedro\",1.23]\r\n",
        "\r\n",
        "for elemento in cosas:\r\n",
        "  if isinstance(elemento,int):\r\n",
        "    print(\"entero\",elemento)\r\n",
        "    cosas.remove(elemento)\r\n",
        "print(cosas)"
      ],
      "execution_count": 30,
      "outputs": [
        {
          "output_type": "stream",
          "text": [
            "entero True\n",
            "entero 3\n",
            "entero 5\n",
            "['jose', 2, 4, 'pedro', 1.23]\n"
          ],
          "name": "stdout"
        }
      ]
    },
    {
      "cell_type": "code",
      "metadata": {
        "colab": {
          "base_uri": "https://localhost:8080/",
          "height": 401
        },
        "id": "hck680kUC_qx",
        "outputId": "13e722a4-f90e-4b1b-87c9-7bcb5c6999c7"
      },
      "source": [
        "cosas=[\"jose\",True,2,3,4,5,\"pedro\",1.23]\r\n",
        "indice=0\r\n",
        "a_eliminar=[]\r\n",
        "for elemento in cosas:\r\n",
        "  if isinstance(elemento,int):\r\n",
        "    print(\"entero\",elemento)#cosas.remove(elemento)\r\n",
        "    a_eliminar.append(indice)\r\n",
        "  indice +=1\r\n",
        "\r\n",
        "print(a_eliminar)\r\n",
        "for indice in a_eliminar:\r\n",
        "  print(indice)\r\n",
        "  cosas.remove(indice)\r\n",
        "\r\n",
        "print(cosas)"
      ],
      "execution_count": 31,
      "outputs": [
        {
          "output_type": "stream",
          "text": [
            "entero True\n",
            "entero 2\n",
            "entero 3\n",
            "entero 4\n",
            "entero 5\n",
            "[1, 2, 3, 4, 5]\n",
            "1\n",
            "2\n",
            "3\n",
            "4\n",
            "5\n"
          ],
          "name": "stdout"
        },
        {
          "output_type": "error",
          "ename": "IndexError",
          "evalue": "ignored",
          "traceback": [
            "\u001b[0;31m---------------------------------------------------------------------------\u001b[0m",
            "\u001b[0;31mIndexError\u001b[0m                                Traceback (most recent call last)",
            "\u001b[0;32m<ipython-input-31-e9ae17b83b4a>\u001b[0m in \u001b[0;36m<module>\u001b[0;34m()\u001b[0m\n\u001b[1;32m     11\u001b[0m \u001b[0;32mfor\u001b[0m \u001b[0mindice\u001b[0m \u001b[0;32min\u001b[0m \u001b[0ma_eliminar\u001b[0m\u001b[0;34m:\u001b[0m\u001b[0;34m\u001b[0m\u001b[0;34m\u001b[0m\u001b[0m\n\u001b[1;32m     12\u001b[0m   \u001b[0mprint\u001b[0m\u001b[0;34m(\u001b[0m\u001b[0mindice\u001b[0m\u001b[0;34m)\u001b[0m\u001b[0;34m\u001b[0m\u001b[0;34m\u001b[0m\u001b[0m\n\u001b[0;32m---> 13\u001b[0;31m   \u001b[0;32mdel\u001b[0m \u001b[0mcosas\u001b[0m\u001b[0;34m[\u001b[0m\u001b[0mindice\u001b[0m\u001b[0;34m]\u001b[0m\u001b[0;34m\u001b[0m\u001b[0;34m\u001b[0m\u001b[0m\n\u001b[0m\u001b[1;32m     14\u001b[0m \u001b[0mprint\u001b[0m\u001b[0;34m(\u001b[0m\u001b[0mcosas\u001b[0m\u001b[0;34m)\u001b[0m\u001b[0;34m\u001b[0m\u001b[0;34m\u001b[0m\u001b[0m\n",
            "\u001b[0;31mIndexError\u001b[0m: list assignment index out of range"
          ]
        }
      ]
    },
    {
      "cell_type": "code",
      "metadata": {
        "colab": {
          "base_uri": "https://localhost:8080/"
        },
        "id": "PoSD58ad2Tu4",
        "outputId": "c0684fd0-05d6-4da4-8652-b8225e6695ef"
      },
      "source": [
        "help(frutas)"
      ],
      "execution_count": 15,
      "outputs": [
        {
          "output_type": "stream",
          "text": [
            "Help on list object:\n",
            "\n",
            "class list(object)\n",
            " |  list() -> new empty list\n",
            " |  list(iterable) -> new list initialized from iterable's items\n",
            " |  \n",
            " |  Methods defined here:\n",
            " |  \n",
            " |  __add__(self, value, /)\n",
            " |      Return self+value.\n",
            " |  \n",
            " |  __contains__(self, key, /)\n",
            " |      Return key in self.\n",
            " |  \n",
            " |  __delitem__(self, key, /)\n",
            " |      Delete self[key].\n",
            " |  \n",
            " |  __eq__(self, value, /)\n",
            " |      Return self==value.\n",
            " |  \n",
            " |  __ge__(self, value, /)\n",
            " |      Return self>=value.\n",
            " |  \n",
            " |  __getattribute__(self, name, /)\n",
            " |      Return getattr(self, name).\n",
            " |  \n",
            " |  __getitem__(...)\n",
            " |      x.__getitem__(y) <==> x[y]\n",
            " |  \n",
            " |  __gt__(self, value, /)\n",
            " |      Return self>value.\n",
            " |  \n",
            " |  __iadd__(self, value, /)\n",
            " |      Implement self+=value.\n",
            " |  \n",
            " |  __imul__(self, value, /)\n",
            " |      Implement self*=value.\n",
            " |  \n",
            " |  __init__(self, /, *args, **kwargs)\n",
            " |      Initialize self.  See help(type(self)) for accurate signature.\n",
            " |  \n",
            " |  __iter__(self, /)\n",
            " |      Implement iter(self).\n",
            " |  \n",
            " |  __le__(self, value, /)\n",
            " |      Return self<=value.\n",
            " |  \n",
            " |  __len__(self, /)\n",
            " |      Return len(self).\n",
            " |  \n",
            " |  __lt__(self, value, /)\n",
            " |      Return self<value.\n",
            " |  \n",
            " |  __mul__(self, value, /)\n",
            " |      Return self*value.\n",
            " |  \n",
            " |  __ne__(self, value, /)\n",
            " |      Return self!=value.\n",
            " |  \n",
            " |  __new__(*args, **kwargs) from builtins.type\n",
            " |      Create and return a new object.  See help(type) for accurate signature.\n",
            " |  \n",
            " |  __repr__(self, /)\n",
            " |      Return repr(self).\n",
            " |  \n",
            " |  __reversed__(...)\n",
            " |      L.__reversed__() -- return a reverse iterator over the list\n",
            " |  \n",
            " |  __rmul__(self, value, /)\n",
            " |      Return value*self.\n",
            " |  \n",
            " |  __setitem__(self, key, value, /)\n",
            " |      Set self[key] to value.\n",
            " |  \n",
            " |  __sizeof__(...)\n",
            " |      L.__sizeof__() -- size of L in memory, in bytes\n",
            " |  \n",
            " |  append(...)\n",
            " |      L.append(object) -> None -- append object to end\n",
            " |  \n",
            " |  clear(...)\n",
            " |      L.clear() -> None -- remove all items from L\n",
            " |  \n",
            " |  copy(...)\n",
            " |      L.copy() -> list -- a shallow copy of L\n",
            " |  \n",
            " |  count(...)\n",
            " |      L.count(value) -> integer -- return number of occurrences of value\n",
            " |  \n",
            " |  extend(...)\n",
            " |      L.extend(iterable) -> None -- extend list by appending elements from the iterable\n",
            " |  \n",
            " |  index(...)\n",
            " |      L.index(value, [start, [stop]]) -> integer -- return first index of value.\n",
            " |      Raises ValueError if the value is not present.\n",
            " |  \n",
            " |  insert(...)\n",
            " |      L.insert(index, object) -- insert object before index\n",
            " |  \n",
            " |  pop(...)\n",
            " |      L.pop([index]) -> item -- remove and return item at index (default last).\n",
            " |      Raises IndexError if list is empty or index is out of range.\n",
            " |  \n",
            " |  remove(...)\n",
            " |      L.remove(value) -> None -- remove first occurrence of value.\n",
            " |      Raises ValueError if the value is not present.\n",
            " |  \n",
            " |  reverse(...)\n",
            " |      L.reverse() -- reverse *IN PLACE*\n",
            " |  \n",
            " |  sort(...)\n",
            " |      L.sort(key=None, reverse=False) -> None -- stable sort *IN PLACE*\n",
            " |  \n",
            " |  ----------------------------------------------------------------------\n",
            " |  Data and other attributes defined here:\n",
            " |  \n",
            " |  __hash__ = None\n",
            "\n"
          ],
          "name": "stdout"
        }
      ]
    },
    {
      "cell_type": "code",
      "metadata": {
        "colab": {
          "base_uri": "https://localhost:8080/"
        },
        "id": "YNTLH6_M2hqH",
        "outputId": "d1958e67-21a7-41fc-ba11-4535cb7b5e5e"
      },
      "source": [
        "#slicing sobre listas\r\n",
        "frutas=[\"melon\",\"sandia\",\"kiwi\",\"aguacate\",\"mango\",\"platano\"]\r\n",
        "print(frutas[1:4])\r\n",
        "\r\n",
        "sistemas_operativos= [\"windows\",\"MAC os\",\"Linux\",\"android\"]\r\n",
        "autos=[\"ford\",\"mazda\",\"honda\"]\r\n",
        "cosas=[sistemas_operativos, autos]\r\n",
        "print(cosas)\r\n",
        "print(cosas[1][1][4:1:-1])"
      ],
      "execution_count": 57,
      "outputs": [
        {
          "output_type": "stream",
          "text": [
            "['sandia', 'kiwi', 'aguacate']\n",
            "[['windows', 'MAC os', 'Linux', 'android'], ['ford', 'mazda', 'honda']]\n",
            "adz\n"
          ],
          "name": "stdout"
        }
      ]
    }
  ]
}