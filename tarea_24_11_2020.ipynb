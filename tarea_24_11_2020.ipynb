{
  "nbformat": 4,
  "nbformat_minor": 0,
  "metadata": {
    "colab": {
      "name": "tarea 24/11/2020",
      "provenance": [],
      "authorship_tag": "ABX9TyNRoS8GTPTAYuaUZ0ogS0T4",
      "include_colab_link": true
    },
    "kernelspec": {
      "name": "python3",
      "display_name": "Python 3"
    }
  },
  "cells": [
    {
      "cell_type": "markdown",
      "metadata": {
        "id": "view-in-github",
        "colab_type": "text"
      },
      "source": [
        "<a href=\"https://colab.research.google.com/github/ludwin1/cyp_2021/blob/main/tarea_24_11_2020.ipynb\" target=\"_parent\"><img src=\"https://colab.research.google.com/assets/colab-badge.svg\" alt=\"Open In Colab\"/></a>"
      ]
    },
    {
      "cell_type": "code",
      "metadata": {
        "colab": {
          "base_uri": "https://localhost:8080/"
        },
        "id": "yKSvWyKbQRVX",
        "outputId": "3dcfe008-688c-4f67-fc75-a4b51fef41d3"
      },
      "source": [
        "#problema1.1\n",
        "PREPO=0\n",
        "PAGO=0\n",
        "\n",
        "PREPO= float(input(\"inserte cantidad de PREPO\"))\n",
        "PAGO= float(input(\"inserte cantidad de pago\"))\n",
        "devo= (PAGO)- (PREPO)\n",
        "print (devo)\n"
      ],
      "execution_count": null,
      "outputs": [
        {
          "output_type": "stream",
          "text": [
            "inserte cantidad de PREPO6\n",
            "inserte cantidad de pago10\n",
            "4.0\n"
          ],
          "name": "stdout"
        }
      ]
    },
    {
      "cell_type": "code",
      "metadata": {
        "colab": {
          "base_uri": "https://localhost:8080/"
        },
        "id": "uxlsW235Tad5",
        "outputId": "c8c30131-5f7d-4580-a8a1-afa2f8cd9dfc"
      },
      "source": [
        "#problema 1.2\n",
        "BASE=0\n",
        "ALTU=0\n",
        "BASE= int(input(\"inserte base:\"))\n",
        "ALTU= int(input(\" inserte altura: \"))\n",
        "print((BASE*ALTU)/2)"
      ],
      "execution_count": 21,
      "outputs": [
        {
          "output_type": "stream",
          "text": [
            "inserte base:4\n",
            " inserte altura: 4\n",
            "8.0\n"
          ],
          "name": "stdout"
        }
      ]
    },
    {
      "cell_type": "code",
      "metadata": {
        "colab": {
          "base_uri": "https://localhost:8080/"
        },
        "id": "8RB1LwT-Vzxx",
        "outputId": "696b8079-01a8-458d-90f3-e531fd08ef0f"
      },
      "source": [
        "#problema 1.3\n",
        "NOM= input(\"ponga el nombre del dinosaurio:\")\n",
        "PES= float(input(\"ponga el peso del dinosaurio:\"))\n",
        "LON= float(input(\"digite la longitud del dinosaurio \"))\n",
        "PESKIL=(PES*1000)\n",
        "LONMET=(LON* 0.3047)\n",
        "\n",
        "print(\"nombre:\",NOM)\n",
        "print( \"PESO:\",PESKIL,)\n",
        "print(\"LONGITUD:\",LONMET)\n"
      ],
      "execution_count": 25,
      "outputs": [
        {
          "output_type": "stream",
          "text": [
            "ponga el nombre del dinosaurio:JOSE\n",
            "ponga el peso del dinosaurio:2\n",
            "digite la longitud del dinosaurio 2\n",
            "nombre: JOSE\n",
            "PESO: 2000.0\n",
            "LONGITUD: 0.6094\n"
          ],
          "name": "stdout"
        }
      ]
    },
    {
      "cell_type": "code",
      "metadata": {
        "colab": {
          "base_uri": "https://localhost:8080/"
        },
        "id": "-WAwNq3HYnZC",
        "outputId": "67fbdbe3-19a6-4fee-fe32-f60e76bcddab"
      },
      "source": [
        "#problema 1.4\n",
        "GAL= float(input(\"inserte la cantidad de galones :\"))\n",
        "print(\"galones en litros:\", GAL* 3.785)\n",
        "print(\"el precio a pagar es:\",\"$\",(GAL *8.20))"
      ],
      "execution_count": 31,
      "outputs": [
        {
          "output_type": "stream",
          "text": [
            "inserte la cantidad de galones :5\n",
            "galones en litros: 18.925\n",
            "el precio a pagar es: $ 41.0\n"
          ],
          "name": "stdout"
        }
      ]
    },
    {
      "cell_type": "code",
      "metadata": {
        "colab": {
          "base_uri": "https://localhost:8080/"
        },
        "id": "j-OwCwi9Z6j1",
        "outputId": "86560ce8-0a1c-4522-e397-41e62cfead62"
      },
      "source": [
        "#problema 1.5\n",
        "RADIO=float(input(\"inserte el radio\"))\n",
        "ALTU=float(input(\"inserte la altura del cilindro\"))\n",
        "volumen= (3.1416*RADIO**2*ALTU)\n",
        "area= (2*3.1416*RADIO*ALTU)\n",
        "print(\"el volumen es:\",volumen)\n",
        "print(\"el area del cilindro es:\",area)"
      ],
      "execution_count": 34,
      "outputs": [
        {
          "output_type": "stream",
          "text": [
            "inserte el radio17.30\n",
            "inserte la altura del cilindro8.45\n",
            "el volumen es: 7945.1079708\n",
            "el area del cilindro es: 918.5095919999999\n"
          ],
          "name": "stdout"
        }
      ]
    },
    {
      "cell_type": "code",
      "metadata": {
        "colab": {
          "base_uri": "https://localhost:8080/"
        },
        "id": "XiVImXVJbgZc",
        "outputId": "e8b16921-079c-4c61-df94-fc938d466f85"
      },
      "source": [
        "#problema 1.6\n",
        "dias= int(input(\"inserte el numero de dias:\"))\n",
        "print(\"los segundosque pasan durante esos dias son\",(dias*24*60*60))"
      ],
      "execution_count": 35,
      "outputs": [
        {
          "output_type": "stream",
          "text": [
            "inserte el numero de dias:1\n",
            "los segundosque pasan durante esos dias son 86400\n"
          ],
          "name": "stdout"
        }
      ]
    }
  ]
}