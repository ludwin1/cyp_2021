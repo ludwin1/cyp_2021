{
  "nbformat": 4,
  "nbformat_minor": 0,
  "metadata": {
    "colab": {
      "name": "actividad(19/11/2020).ipynb",
      "provenance": [],
      "collapsed_sections": [],
      "authorship_tag": "ABX9TyOzHnljnhvNhoZClyZeKnnH",
      "include_colab_link": true
    },
    "kernelspec": {
      "name": "python3",
      "display_name": "Python 3"
    }
  },
  "cells": [
    {
      "cell_type": "markdown",
      "metadata": {
        "id": "view-in-github",
        "colab_type": "text"
      },
      "source": [
        "<a href=\"https://colab.research.google.com/github/ludwin1/cyp_2021/blob/main/actividad(19_11_2020).ipynb\" target=\"_parent\"><img src=\"https://colab.research.google.com/assets/colab-badge.svg\" alt=\"Open In Colab\"/></a>"
      ]
    },
    {
      "cell_type": "code",
      "metadata": {
        "colab": {
          "base_uri": "https://localhost:8080/"
        },
        "id": "rm5p1t7cko9a",
        "outputId": "50c63cc9-d477-4df7-ca0f-d0f1d2687f93"
      },
      "source": [
        "I= 0\n",
        "I = I +1\n",
        "print (f\"I={I}\")\n",
        "J= 5** 2/3\n",
        "print (f\"J={J}\")"
      ],
      "execution_count": null,
      "outputs": [
        {
          "output_type": "stream",
          "text": [
            "I=1\n",
            "J=8.333333333333334\n"
          ],
          "name": "stdout"
        }
      ]
    },
    {
      "cell_type": "code",
      "metadata": {
        "colab": {
          "base_uri": "https://localhost:8080/"
        },
        "id": "KGW8_HeuqDNi",
        "outputId": "994e1eb7-02d5-4846-dca7-e26eb1c3bea2"
      },
      "source": [
        "A = 0\n",
        "B = 0\n",
        "C = 0\n",
        "D = 0\n",
        "A =int (input(\"dame un numero: \"))\n",
        "B =int (input(\"dame otro numero: \"))\n",
        "C =int (input(\"dame otro numero: \"))\n",
        "D =int (input(\"dame otro numero: \"))\n",
        "\n",
        "print (D)\n",
        "print (C)\n",
        "print (B)\n",
        "print (A) "
      ],
      "execution_count": null,
      "outputs": [
        {
          "output_type": "stream",
          "text": [
            "dame un numero: 4\n",
            "dame otro numero: 4\n",
            "dame otro numero: 4\n",
            "dame otro numero: 4\n",
            "4\n",
            "4\n",
            "4\n",
            "4\n"
          ],
          "name": "stdout"
        }
      ]
    },
    {
      "cell_type": "code",
      "metadata": {
        "colab": {
          "base_uri": "https://localhost:8080/"
        },
        "id": "vNuSG1N1pRDz",
        "outputId": "bce94cc3-6d49-40e4-a645-ce3413103f95"
      },
      "source": [
        "A = 0\n",
        "B = 0\n",
        "A = int(input(\" dame un entero:\"))\n",
        "B = int(input(\" dame otro entero:\"))\n",
        "RES = ( A + B )** 2 / 3\n",
        "print ( RES )"
      ],
      "execution_count": null,
      "outputs": [
        {
          "output_type": "stream",
          "text": [
            " dame un entero:2\n",
            " dame otro entero:2\n",
            "5.333333333333333\n"
          ],
          "name": "stdout"
        }
      ]
    },
    {
      "cell_type": "code",
      "metadata": {
        "colab": {
          "base_uri": "https://localhost:8080/",
          "height": 316
        },
        "id": "DutM4_GVp4e2",
        "outputId": "97681b5b-e254-4e32-cdf0-451d9bd246d8"
      },
      "source": [
        "MAT=0\n",
        "CAL1=0\n",
        "CAL2=0\n",
        "CAL3=0\n",
        "CAL4=0\n",
        "CAL5=0\n",
        "MAT= int(input( \"dame la matricula: \"))\n",
        "CAL1= float (input(\"calificacion 1: \"))\n",
        "CAL2= float (input(\"calificacion 2: \"))\n",
        "CAL3= float (input(\"calificacion 3: \"))\n",
        "CAL4= float (input(\"calificacion 4: \"))\n",
        "CAL5= float (input(\"calificacion 5: \"))\n",
        "\n",
        "PRO= (CAL1 + CAL2 + CAL3 +CAL4 +CAL5)/5\n",
        "print ( PRO )\n",
        "print (MAt)"
      ],
      "execution_count": null,
      "outputs": [
        {
          "output_type": "stream",
          "text": [
            "dame la matricula: 318163525\n",
            "calificacion 1: 10\n",
            "calificacion 2: 8\n",
            "calificacion 3: 9\n",
            "calificacion 4: 8\n",
            "calificacion 5: 8\n",
            "8.6\n"
          ],
          "name": "stdout"
        },
        {
          "output_type": "error",
          "ename": "NameError",
          "evalue": "ignored",
          "traceback": [
            "\u001b[0;31m---------------------------------------------------------------------------\u001b[0m",
            "\u001b[0;31mNameError\u001b[0m                                 Traceback (most recent call last)",
            "\u001b[0;32m<ipython-input-37-c8ec627f7860>\u001b[0m in \u001b[0;36m<module>\u001b[0;34m()\u001b[0m\n\u001b[1;32m     14\u001b[0m \u001b[0mPRO\u001b[0m\u001b[0;34m=\u001b[0m \u001b[0;34m(\u001b[0m\u001b[0mCAL1\u001b[0m \u001b[0;34m+\u001b[0m \u001b[0mCAL2\u001b[0m \u001b[0;34m+\u001b[0m \u001b[0mCAL3\u001b[0m \u001b[0;34m+\u001b[0m\u001b[0mCAL4\u001b[0m \u001b[0;34m+\u001b[0m\u001b[0mCAL5\u001b[0m\u001b[0;34m)\u001b[0m\u001b[0;34m/\u001b[0m\u001b[0;36m5\u001b[0m\u001b[0;34m\u001b[0m\u001b[0;34m\u001b[0m\u001b[0m\n\u001b[1;32m     15\u001b[0m \u001b[0mprint\u001b[0m \u001b[0;34m(\u001b[0m \u001b[0mPRO\u001b[0m \u001b[0;34m)\u001b[0m\u001b[0;34m\u001b[0m\u001b[0;34m\u001b[0m\u001b[0m\n\u001b[0;32m---> 16\u001b[0;31m \u001b[0mprint\u001b[0m \u001b[0;34m(\u001b[0m\u001b[0mMAt\u001b[0m\u001b[0;34m)\u001b[0m\u001b[0;34m\u001b[0m\u001b[0;34m\u001b[0m\u001b[0m\n\u001b[0m",
            "\u001b[0;31mNameError\u001b[0m: name 'MAt' is not defined"
          ]
        }
      ]
    },
    {
      "cell_type": "code",
      "metadata": {
        "id": "z49wkUaGwevu"
      },
      "source": [
        ""
      ],
      "execution_count": null,
      "outputs": []
    },
    {
      "cell_type": "code",
      "metadata": {
        "colab": {
          "base_uri": "https://localhost:8080/"
        },
        "id": "IL0xV_T-xwjM",
        "outputId": "e583f794-a534-4228-8291-3ef26887046c"
      },
      "source": [
        "NUM=0\n",
        "NUM = float(input(\"dame un numero:\"))\n",
        "print (NUM ** 2)\n",
        "print(NUM**3)"
      ],
      "execution_count": 40,
      "outputs": [
        {
          "output_type": "stream",
          "text": [
            "dame un numero:2\n",
            "4.0\n",
            "8.0\n"
          ],
          "name": "stdout"
        }
      ]
    },
    {
      "cell_type": "code",
      "metadata": {
        "colab": {
          "base_uri": "https://localhost:8080/"
        },
        "id": "iRhMWPVN0ZAt",
        "outputId": "bb0d5593-bd07-46a8-9236-fabf9012a9b5"
      },
      "source": [
        "base= float(input(\"dame la base bro :\"))\n",
        "altu= float(input(\"dame la altura tambien: \"))\n",
        "perimetro= 2*(base+altu)\n",
        "sup= base* altu\n",
        "print (\"el perimetro es\",perimetro)\n",
        "print (\"la sup es:\",sup)"
      ],
      "execution_count": 44,
      "outputs": [
        {
          "output_type": "stream",
          "text": [
            "dame la base bro :4\n",
            "dame la altura tambien: 4\n",
            "el perimetro es 16.0\n",
            "la sup es: 16.0\n"
          ],
          "name": "stdout"
        }
      ]
    },
    {
      "cell_type": "code",
      "metadata": {
        "id": "-eBe2YnryIVq"
      },
      "source": [
        "="
      ],
      "execution_count": null,
      "outputs": []
    }
  ]
}