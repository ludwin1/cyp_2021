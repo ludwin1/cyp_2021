{
  "nbformat": 4,
  "nbformat_minor": 0,
  "metadata": {
    "colab": {
      "name": "tarea7_.ipynb",
      "provenance": [],
      "authorship_tag": "ABX9TyP36ahqxWuwmDuB6T8JTgJh",
      "include_colab_link": true
    },
    "kernelspec": {
      "name": "python3",
      "display_name": "Python 3"
    }
  },
  "cells": [
    {
      "cell_type": "markdown",
      "metadata": {
        "id": "view-in-github",
        "colab_type": "text"
      },
      "source": [
        "<a href=\"https://colab.research.google.com/github/ludwin1/cyp_2021/blob/main/tarea7_.ipynb\" target=\"_parent\"><img src=\"https://colab.research.google.com/assets/colab-badge.svg\" alt=\"Open In Colab\"/></a>"
      ]
    },
    {
      "cell_type": "code",
      "metadata": {
        "colab": {
          "base_uri": "https://localhost:8080/"
        },
        "id": "2xo6Sy8wqa-z",
        "outputId": "40374336-3d1d-4447-9bde-ac828431b668"
      },
      "source": [
        "#problema 4.11\r\n",
        "#Se tienen tres arreglos: SUR, CENTRO y NORTE que almacenan los nombres de\r\n",
        "#los países del Sur, Centro y Norteamérica, respectivamente. Los tres arreglos es\r\n",
        "#tán ordenados alfabéticamente.\r\n",
        "#Escriba un diagrama de flujo que mezcle los tres arreglos anteriores formando\r\n",
        "#un cuarto arreglo, AMERICA, en el cual aparezcan los nombres de todos los paí-\r\n",
        "#ses del continente ordenados alfabéticamente.\r\n",
        "\r\n",
        "TPS=int(input(\"ingrese el total de paises del sur\"))\r\n",
        "TPC=int(input(\"ingrese el total de paises de centro\"))\r\n",
        "TPN=int(input(\"ingrese el total de paises de norte\"))\r\n",
        "if 1<TPS and TPS <30 and 1< TPC and TPC < 30 and 1 < TPN and TPN<30:\r\n",
        "  print(\"ingrese los nombres de los paises de sudamerica\")\r\n",
        "  i=1\r\n",
        "  for i in range(TPS):\r\n",
        "    SUR[i]=(input(\"ingrese nombre del pais\",i))\r\n",
        "    i=i+1\r\n",
        "  print(\"ingrese los nombres de los paises de centroamerica\")\r\n",
        "  i=1\r\n",
        "  for i in range(TPC):\r\n",
        "    CENTRO[i]=(input(\"ingrese el nombre del pais\",i))\r\n",
        "    i=i+1\r\n",
        "  print(\"ingrese los nombres de los paises de norteamerica\")\r\n",
        "  i=1\r\n",
        "  for i in range(TPN):\r\n",
        "    NORTE[i]=int(input(\"ingrese nombre de pais \",i))\r\n",
        "    i=1+i\r\n",
        "  PS=1  #PARTE B\r\n",
        "  PC=1\r\n",
        "  PN=1\r\n",
        "  PA=0\r\n",
        "  if PS<TPS and PC < TPC and PN < TPN:\r\n",
        "    PA=PA+1\r\n",
        "    if SUR[PS]< CENTRO[PC] and  SUR[PS] < NORTE[PN]:\r\n",
        "      AMERICA[PA]=SUR[PS]\r\n",
        "      PS=PS+1\r\n",
        "    else:\r\n",
        "      if CENTRO[PC]< NORTE[PN]:\r\n",
        "        AMERICA[PA]=CENTRO[PC]\r\n",
        "        PC=PC+1\r\n",
        "      else:\r\n",
        "        AMERICA[PA]=NORTE[PN]\r\n",
        "        PN=PN+1\r\n",
        "  else:\r\n",
        "    if PS < TPS and PC<TPC and PN < TPN:\r\n",
        "      PA=PA+1\r\n",
        "      if SUR[PS]< CENTRO[PC]:\r\n",
        "        AMERICA[PA]=SUR[PS]\r\n",
        "        PS=PS+1\r\n",
        "      else:\r\n",
        "        AMERICA[PA]=CENTRO[PC]\r\n",
        "        PC=PC+1\r\n",
        "    else:\r\n",
        "      if PS < TPS and PN < TPN:#parte C\r\n",
        "        PA=PA+1       \r\n",
        "        if SUR[PS]< NORTE[PN]:\r\n",
        "          AMERICA[PA]=SUR[PS]\r\n",
        "          PS=PS+1\r\n",
        "        else:\r\n",
        "          AMERICA[PA]=NORTE[PN]\r\n",
        "          PN=PN+1\r\n",
        "      else:\r\n",
        "        if PC < TPC and PN <TPN:\r\n",
        "          PA=PA+1\r\n",
        "          if CENTRO[PC] < NORTE[PN]:\r\n",
        "            AMERICA[PA]=CENTRO[PC]\r\n",
        "            PC=PC+1\r\n",
        "          else:\r\n",
        "            AMERICA[PA]=NORTE[PN]\r\n",
        "            PN=PN+1\r\n",
        "        else:\r\n",
        "          if PS < TPS:   #PARTE D\r\n",
        "            PA=PA+1\r\n",
        "            AMERICA[PA]=SUR[PS]\r\n",
        "            PS=PS+1\r\n",
        "          else:\r\n",
        "            if PC<TPC:\r\n",
        "              PA=PA+1\r\n",
        "              AMERICA[PA]=CENTRO[PC]\r\n",
        "              PC=PC+1\r\n",
        "            else:\r\n",
        "              if PN< TPN :\r\n",
        "                PA=PA+1\r\n",
        "                AMERICA[PA]=NORTE[PN]\r\n",
        "                PN=PN+1\r\n",
        "              else:\r\n",
        "                print(\"arreglo america\")\r\n",
        "                i=1\r\n",
        "                while 1 <pa:\r\n",
        "                  print(AMERICA[i])\r\n",
        "                  i=i+1\r\n",
        "else:#f\r\n",
        "  print(\"verifique el numero de paises ingresados\")\r\n",
        "\r\n"
      ],
      "execution_count": 29,
      "outputs": [
        {
          "output_type": "stream",
          "text": [
            "ingrese el total de paises del sur1\n",
            "ingrese el total de paises de centro1\n",
            "ingrese el total de paises de norte1\n",
            "verifique el numero de paises ingresados\n"
          ],
          "name": "stdout"
        }
      ]
    }
  ]
}