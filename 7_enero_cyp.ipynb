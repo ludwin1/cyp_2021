{
  "nbformat": 4,
  "nbformat_minor": 0,
  "metadata": {
    "colab": {
      "name": "7_enero_cyp.ipynb",
      "provenance": [],
      "authorship_tag": "ABX9TyP2DMHXozeKW/pxMmMfyFXW",
      "include_colab_link": true
    },
    "kernelspec": {
      "name": "python3",
      "display_name": "Python 3"
    }
  },
  "cells": [
    {
      "cell_type": "markdown",
      "metadata": {
        "id": "view-in-github",
        "colab_type": "text"
      },
      "source": [
        "<a href=\"https://colab.research.google.com/github/ludwin1/cyp_2021/blob/main/7_enero_cyp.ipynb\" target=\"_parent\"><img src=\"https://colab.research.google.com/assets/colab-badge.svg\" alt=\"Open In Colab\"/></a>"
      ]
    },
    {
      "cell_type": "code",
      "metadata": {
        "id": "VGJ7Oxas4rQJ",
        "colab": {
          "base_uri": "https://localhost:8080/"
        },
        "outputId": "22e631c7-3a3d-49e0-eda8-7c67b62a7a8a"
      },
      "source": [
        "REN=3\r\n",
        "COL=5\r\n",
        "VEC=[ [0 for x in range(COL)] for x in range(REN )]\r\n",
        "print (VEC)\r\n",
        "VEC[1][2]=15\r\n",
        "print(VEC)\r\n",
        "print(\"automatizar el recorrido del arreglo\")\r\n",
        "for i in range (REN):\r\n",
        "  for j in range (COL):\r\n",
        "    print(f\"{i},{j}={0 }\")"
      ],
      "execution_count": 16,
      "outputs": [
        {
          "output_type": "stream",
          "text": [
            "[[0, 0, 0, 0, 0], [0, 0, 0, 0, 0], [0, 0, 0, 0, 0]]\n",
            "[[0, 0, 0, 0, 0], [0, 0, 15, 0, 0], [0, 0, 0, 0, 0]]\n",
            "automatizar el recorrido del arreglo\n",
            "0,0=0\n",
            "0,1=0\n",
            "0,2=0\n",
            "0,3=0\n",
            "0,4=0\n",
            "1,0=0\n",
            "1,1=0\n",
            "1,2=0\n",
            "1,3=0\n",
            "1,4=0\n",
            "2,0=0\n",
            "2,1=0\n",
            "2,2=0\n",
            "2,3=0\n",
            "2,4=0\n"
          ],
          "name": "stdout"
        }
      ]
    },
    {
      "cell_type": "code",
      "metadata": {
        "colab": {
          "base_uri": "https://localhost:8080/"
        },
        "id": "jg60mCekFZTL",
        "outputId": "9bbe3287-630e-416e-8885-2539e5c7a87d"
      },
      "source": [
        "estados= int(input(\"cuantos estados son?  :\"))\r\n",
        "lluvias_men_est= [[0 for x in range(12)]for x in range(estados +1)]\r\n",
        "print(lluvias_men_est)\r\n",
        "for i in range(estados):\r\n",
        "  for j in range(12):\r\n",
        "    mensaje=\"dame el valor del estado\"+ str(i+1)+\"del mes\"+str(j+1),\":\"\r\n",
        "    aux= int(input(mensaje))\r\n",
        "    lluvias_men_est[i][j]=aux\r\n",
        "print(lluvias_men_est)\r\n",
        "print(\"Promedio de lluvias en los estados\")\r\n",
        "suma=0\r\n",
        "for i in range(estados):\r\n",
        "  suma=0\r\n",
        "  for j in range(12):\r\n",
        "    suma=suma + lluvias_men_est [i][j]\r\n",
        "  print(f\"el promedio de las lluvias en el estado {i +1 }es  {   suma/12}\")\r\n",
        "\r\n",
        " "
      ],
      "execution_count": 21,
      "outputs": [
        {
          "output_type": "stream",
          "text": [
            "cuantos estados son?  :2\n",
            "[[0, 0, 0, 0, 0, 0, 0, 0, 0, 0, 0, 0], [0, 0, 0, 0, 0, 0, 0, 0, 0, 0, 0, 0], [0, 0, 0, 0, 0, 0, 0, 0, 0, 0, 0, 0]]\n",
            "dame el el valor del estado :1del mes1,:1\n",
            "dame el el valor del estado :1del mes2,:1\n",
            "dame el el valor del estado :1del mes3,:1\n",
            "dame el el valor del estado :1del mes4,:1\n",
            "dame el el valor del estado :1del mes5,:1\n",
            "dame el el valor del estado :1del mes6,:1\n",
            "dame el el valor del estado :1del mes7,:1\n",
            "dame el el valor del estado :1del mes8,:1\n",
            "dame el el valor del estado :1del mes9,:1\n",
            "dame el el valor del estado :1del mes10,:1\n",
            "dame el el valor del estado :1del mes11,:1\n",
            "dame el el valor del estado :1del mes12,:1\n",
            "dame el el valor del estado :2del mes1,:1\n",
            "dame el el valor del estado :2del mes2,:1\n",
            "dame el el valor del estado :2del mes3,:1\n",
            "dame el el valor del estado :2del mes4,:1\n",
            "dame el el valor del estado :2del mes5,:1\n",
            "dame el el valor del estado :2del mes6,:1\n",
            "dame el el valor del estado :2del mes7,:1\n",
            "dame el el valor del estado :2del mes8,:1\n",
            "dame el el valor del estado :2del mes9,:1\n",
            "dame el el valor del estado :2del mes10,:1\n",
            "dame el el valor del estado :2del mes11,:1\n",
            "dame el el valor del estado :2del mes12,:1\n",
            "[[1, 1, 1, 1, 1, 1, 1, 1, 1, 1, 1, 1], [1, 1, 1, 1, 1, 1, 1, 1, 1, 1, 1, 1], [0, 0, 0, 0, 0, 0, 0, 0, 0, 0, 0, 0]]\n",
            "Promedio de lluvias en los estados\n",
            "el promedio de las lluvias en el estado 1es0.08333333333333333\n",
            "el promedio de las lluvias en el estado 1es0.16666666666666666\n",
            "el promedio de las lluvias en el estado 1es0.25\n",
            "el promedio de las lluvias en el estado 1es0.3333333333333333\n",
            "el promedio de las lluvias en el estado 1es0.4166666666666667\n",
            "el promedio de las lluvias en el estado 1es0.5\n",
            "el promedio de las lluvias en el estado 1es0.5833333333333334\n",
            "el promedio de las lluvias en el estado 1es0.6666666666666666\n",
            "el promedio de las lluvias en el estado 1es0.75\n",
            "el promedio de las lluvias en el estado 1es0.8333333333333334\n",
            "el promedio de las lluvias en el estado 1es0.9166666666666666\n",
            "el promedio de las lluvias en el estado 1es1.0\n",
            "el promedio de las lluvias en el estado 2es0.08333333333333333\n",
            "el promedio de las lluvias en el estado 2es0.16666666666666666\n",
            "el promedio de las lluvias en el estado 2es0.25\n",
            "el promedio de las lluvias en el estado 2es0.3333333333333333\n",
            "el promedio de las lluvias en el estado 2es0.4166666666666667\n",
            "el promedio de las lluvias en el estado 2es0.5\n",
            "el promedio de las lluvias en el estado 2es0.5833333333333334\n",
            "el promedio de las lluvias en el estado 2es0.6666666666666666\n",
            "el promedio de las lluvias en el estado 2es0.75\n",
            "el promedio de las lluvias en el estado 2es0.8333333333333334\n",
            "el promedio de las lluvias en el estado 2es0.9166666666666666\n",
            "el promedio de las lluvias en el estado 2es1.0\n"
          ],
          "name": "stdout"
        }
      ]
    }
  ]
}