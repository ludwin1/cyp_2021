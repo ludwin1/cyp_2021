{
  "nbformat": 4,
  "nbformat_minor": 0,
  "metadata": {
    "colab": {
      "name": "28_enero_cyp.ipynb",
      "provenance": [],
      "authorship_tag": "ABX9TyNX7wMdooXt2gTzFiQ5xkdC",
      "include_colab_link": true
    },
    "kernelspec": {
      "name": "python3",
      "display_name": "Python 3"
    }
  },
  "cells": [
    {
      "cell_type": "markdown",
      "metadata": {
        "id": "view-in-github",
        "colab_type": "text"
      },
      "source": [
        "<a href=\"https://colab.research.google.com/github/ludwin1/cyp_2021/blob/main/28_enero_cyp.ipynb\" target=\"_parent\"><img src=\"https://colab.research.google.com/assets/colab-badge.svg\" alt=\"Open In Colab\"/></a>"
      ]
    },
    {
      "cell_type": "code",
      "metadata": {
        "id": "8bcyqIgrBeSi"
      },
      "source": [
        ""
      ],
      "execution_count": null,
      "outputs": []
    },
    {
      "cell_type": "markdown",
      "metadata": {
        "id": "qIaAmlEWBlO7"
      },
      "source": [
        "#tuplas\r\n",
        "-tipo de datos lineal, estrctura de datos\r\n",
        "-no mutable\r\n",
        "- puede contener de 0 a n elementos\r\n",
        "- se declara con '('y')'\r\n",
        "- no puedes agregar, ni eliminar \r\n",
        "elementos.\r\n",
        "-pueden ser anidadas.\r\n",
        "- los argumentos a una funcion son enviadas como tuplas."
      ]
    },
    {
      "cell_type": "code",
      "metadata": {
        "colab": {
          "base_uri": "https://localhost:8080/",
          "height": 282
        },
        "id": "5-0KrJk5CpuU",
        "outputId": "fdc9651b-2d6d-4cfd-f413-87e4e927c6ab"
      },
      "source": [
        "frutas=('sandia','melon','limon','mango')\r\n",
        "print(frutas)\r\n",
        "print(frutas[1:3:1])\r\n",
        "print(frutas.count('melon'))\r\n",
        "#son inmutables\r\n",
        "frutas[1]=\"manzana\"\r\n",
        "#¿pa que se usan?\r\n",
        "conexion=('132.248.12.12',3306,'cyp_bd', 'usr_test','1234dios')\r\n",
        "print(f\"usuario:{conexion[3]}y password: {conexion[4]}\")"
      ],
      "execution_count": 6,
      "outputs": [
        {
          "output_type": "stream",
          "text": [
            "('sandia', 'melon', 'limon', 'mango')\n",
            "('melon', 'limon')\n",
            "1\n"
          ],
          "name": "stdout"
        },
        {
          "output_type": "error",
          "ename": "TypeError",
          "evalue": "ignored",
          "traceback": [
            "\u001b[0;31m---------------------------------------------------------------------------\u001b[0m",
            "\u001b[0;31mTypeError\u001b[0m                                 Traceback (most recent call last)",
            "\u001b[0;32m<ipython-input-6-a07a44b4c12a>\u001b[0m in \u001b[0;36m<module>\u001b[0;34m()\u001b[0m\n\u001b[1;32m      4\u001b[0m \u001b[0mprint\u001b[0m\u001b[0;34m(\u001b[0m\u001b[0mfrutas\u001b[0m\u001b[0;34m.\u001b[0m\u001b[0mcount\u001b[0m\u001b[0;34m(\u001b[0m\u001b[0;34m'melon'\u001b[0m\u001b[0;34m)\u001b[0m\u001b[0;34m)\u001b[0m\u001b[0;34m\u001b[0m\u001b[0;34m\u001b[0m\u001b[0m\n\u001b[1;32m      5\u001b[0m \u001b[0;31m#son inmutables\u001b[0m\u001b[0;34m\u001b[0m\u001b[0;34m\u001b[0m\u001b[0;34m\u001b[0m\u001b[0m\n\u001b[0;32m----> 6\u001b[0;31m \u001b[0mfrutas\u001b[0m\u001b[0;34m[\u001b[0m\u001b[0;36m1\u001b[0m\u001b[0;34m]\u001b[0m\u001b[0;34m=\u001b[0m\u001b[0;34m\"manzana\"\u001b[0m\u001b[0;34m\u001b[0m\u001b[0;34m\u001b[0m\u001b[0m\n\u001b[0m\u001b[1;32m      7\u001b[0m \u001b[0;31m#¿pa que se usan?\u001b[0m\u001b[0;34m\u001b[0m\u001b[0;34m\u001b[0m\u001b[0;34m\u001b[0m\u001b[0m\n\u001b[1;32m      8\u001b[0m \u001b[0mconexion\u001b[0m\u001b[0;34m=\u001b[0m\u001b[0;34m(\u001b[0m\u001b[0;34m'132.248.12.12'\u001b[0m\u001b[0;34m,\u001b[0m\u001b[0;36m3306\u001b[0m\u001b[0;34m,\u001b[0m\u001b[0;34m'cyp_bd'\u001b[0m\u001b[0;34m,\u001b[0m \u001b[0;34m'usr_test'\u001b[0m\u001b[0;34m,\u001b[0m\u001b[0;34m'1234dios'\u001b[0m\u001b[0;34m)\u001b[0m\u001b[0;34m\u001b[0m\u001b[0;34m\u001b[0m\u001b[0m\n",
            "\u001b[0;31mTypeError\u001b[0m: 'tuple' object does not support item assignment"
          ]
        }
      ]
    },
    {
      "cell_type": "code",
      "metadata": {
        "colab": {
          "base_uri": "https://localhost:8080/"
        },
        "id": "GEUPyud2DQUv",
        "outputId": "34d29488-bc0a-448c-d029-5eea9ba8cd58"
      },
      "source": [
        "print(dir(frutas))"
      ],
      "execution_count": 3,
      "outputs": [
        {
          "output_type": "stream",
          "text": [
            "['__add__', '__class__', '__contains__', '__delattr__', '__dir__', '__doc__', '__eq__', '__format__', '__ge__', '__getattribute__', '__getitem__', '__getnewargs__', '__gt__', '__hash__', '__init__', '__init_subclass__', '__iter__', '__le__', '__len__', '__lt__', '__mul__', '__ne__', '__new__', '__reduce__', '__reduce_ex__', '__repr__', '__rmul__', '__setattr__', '__sizeof__', '__str__', '__subclasshook__', 'count', 'index']\n"
          ],
          "name": "stdout"
        }
      ]
    },
    {
      "cell_type": "markdown",
      "metadata": {
        "id": "lasMZ3U3GVBB"
      },
      "source": [
        "#diccionarios\r\n",
        "- estructura de datos semi lineal.\r\n",
        "- formada por pares, llave - valor.\r\n",
        "- equivalentes al tipo de dato json, de javascript\r\n",
        "- utiliza organizacion por una funcion de dispercion.\r\n",
        "- se declara con los elementos '{'y'}'\r\n",
        "- el selector usa valores de tipo  string(llave)\r\n",
        "- no se puede seleccionar por offset[1]\r\n",
        "- son mutables"
      ]
    },
    {
      "cell_type": "code",
      "metadata": {
        "colab": {
          "base_uri": "https://localhost:8080/"
        },
        "id": "9dr5UzjcHLm2",
        "outputId": "cdc4b906-2db8-4d3b-de97-1946f0236d8e"
      },
      "source": [
        "alumno={'nombre':'juan perez'}\r\n",
        "print(alumno)\r\n",
        "print(alumno['nombre'])"
      ],
      "execution_count": 7,
      "outputs": [
        {
          "output_type": "stream",
          "text": [
            "{'nombre': 'juan perez'}\n",
            "juan perez\n"
          ],
          "name": "stdout"
        }
      ]
    },
    {
      "cell_type": "code",
      "metadata": {
        "colab": {
          "base_uri": "https://localhost:8080/"
        },
        "id": "mU0EJW9CLrm5",
        "outputId": "5b294ccd-691f-4566-a001-aa31d29cce2a"
      },
      "source": [
        "alumno = {'nombre':'Juan Pérez','edad':18,'altura':1.71,'estatus':'Aprobado','numeros':[555645902, 55326372]}\r\n",
        "print(alumno)\r\n",
        "print( alumno ['numeros'])\r\n"
      ],
      "execution_count": 8,
      "outputs": [
        {
          "output_type": "stream",
          "text": [
            "{'nombre': 'Juan Pérez', 'edad': 18, 'altura': 1.71, 'estatus': 'Aprobado', 'numeros': [555645902, 55326372]}\n",
            "[555645902, 55326372]\n"
          ],
          "name": "stdout"
        }
      ]
    },
    {
      "cell_type": "code",
      "metadata": {
        "colab": {
          "base_uri": "https://localhost:8080/"
        },
        "id": "ahqvkvh7MZPc",
        "outputId": "e638ca27-e2b1-499f-d7b0-97e2244449f0"
      },
      "source": [
        "materia = [\"Algebra\", \"Computadoras y Programacion\", \"Calculo Diferencial e Integral\", \"Introduccion a la Ingenieria\", \"Geometria Analitica\"]\r\n",
        "alumno = {\"ID\" : (123456789), \"Nombre\" : \"Yael\", \"Apellido\" : \"Castillo\", \"Edad\" : 20, \"Escuela\" : \"FES Aragon\", \"Materia\" : materia}\r\n",
        "for i in alumno:\r\n",
        "    print(f\"Clave: {i} - Valor: {alumno[i]}\")"
      ],
      "execution_count": 9,
      "outputs": [
        {
          "output_type": "stream",
          "text": [
            "Clave: ID - Valor: 123456789\n",
            "Clave: Nombre - Valor: Yael\n",
            "Clave: Apellido - Valor: Castillo\n",
            "Clave: Edad - Valor: 20\n",
            "Clave: Escuela - Valor: FES Aragon\n",
            "Clave: Materia - Valor: ['Algebra', 'Computadoras y Programacion', 'Calculo Diferencial e Integral', 'Introduccion a la Ingenieria', 'Geometria Analitica']\n"
          ],
          "name": "stdout"
        }
      ]
    },
    {
      "cell_type": "code",
      "metadata": {
        "colab": {
          "base_uri": "https://localhost:8080/"
        },
        "id": "1gRKQkjyMuLU",
        "outputId": "491b2f6b-3f51-4ad7-fe0d-0a6eab553194"
      },
      "source": [
        "alumno = { 'nombre' : 'Juan Pérez',\r\n",
        "          'edad' : 18,\r\n",
        "          'Matricula': 312193,\r\n",
        "          'calificaciones' : {'Mate': 8,\r\n",
        "                              'ciencias': 9,\r\n",
        "                              'ingles': 8}, \r\n",
        "          'aprovado' : True, \r\n",
        "          'direccion':{\r\n",
        "              'calle': 'rancho seco',\r\n",
        "                       'numero':' s/n',\r\n",
        "                       'colonia':'impulsora popular avicola',\r\n",
        "                       'municipio':'mi-nezota','estado':{'xd'}}}\r\n",
        "\r\n",
        "print(alumno)\r\n",
        "print(alumno['nombre'])\r\n",
        "print(alumno['calificaciones'])\r\n",
        "#9 calificacion de ciencias??\r\n",
        "print(alumno['calificaciones']['ciencias'])\r\n",
        "#nombre en mayusculas\r\n",
        "print(alumno['nombre'].upper())\r\n",
        "print(\"----------------\")\r\n",
        "print(alumno)\r\n",
        "alumno['seguro']=True\r\n",
        "print(\"-------------\")\r\n",
        "\r\n",
        "print(alumno)"
      ],
      "execution_count": 29,
      "outputs": [
        {
          "output_type": "stream",
          "text": [
            "{'nombre': 'Juan Pérez', 'edad': 18, 'Matricula': 312193, 'calificaciones': {'Mate': 8, 'ciencias': 9, 'ingles': 8}, 'aprovado': True, 'direccion': {'calle': 'rancho seco', 'numero': ' s/n', 'colonia': 'impulsora popular avicola', 'municipio': 'mi-nezota', 'estado': {'xd'}}}\n",
            "Juan Pérez\n",
            "{'Mate': 8, 'ciencias': 9, 'ingles': 8}\n",
            "9\n",
            "JUAN PÉREZ\n",
            "----------------\n",
            "{'nombre': 'Juan Pérez', 'edad': 18, 'Matricula': 312193, 'calificaciones': {'Mate': 8, 'ciencias': 9, 'ingles': 8}, 'aprovado': True, 'direccion': {'calle': 'rancho seco', 'numero': ' s/n', 'colonia': 'impulsora popular avicola', 'municipio': 'mi-nezota', 'estado': {'xd'}}}\n",
            "-------------\n",
            "{'nombre': 'Juan Pérez', 'edad': 18, 'Matricula': 312193, 'calificaciones': {'Mate': 8, 'ciencias': 9, 'ingles': 8}, 'aprovado': True, 'direccion': {'calle': 'rancho seco', 'numero': ' s/n', 'colonia': 'impulsora popular avicola', 'municipio': 'mi-nezota', 'estado': {'xd'}}, 'seguro': True}\n"
          ],
          "name": "stdout"
        }
      ]
    },
    {
      "cell_type": "code",
      "metadata": {
        "id": "IyLw31cqOJZx"
      },
      "source": [
        "cliente={}"
      ],
      "execution_count": null,
      "outputs": []
    },
    {
      "cell_type": "code",
      "metadata": {
        "colab": {
          "base_uri": "https://localhost:8080/"
        },
        "id": "iGEMYyOsXyzK",
        "outputId": "0f43a367-6b3b-4d25-eeb2-fb00ffc4b21f"
      },
      "source": [
        "funciones=dir(dict)\r\n",
        "for funcion in funciones:\r\n",
        "  print(funcion)"
      ],
      "execution_count": 35,
      "outputs": [
        {
          "output_type": "stream",
          "text": [
            "__class__\n",
            "__contains__\n",
            "__delattr__\n",
            "__delitem__\n",
            "__dir__\n",
            "__doc__\n",
            "__eq__\n",
            "__format__\n",
            "__ge__\n",
            "__getattribute__\n",
            "__getitem__\n",
            "__gt__\n",
            "__hash__\n",
            "__init__\n",
            "__init_subclass__\n",
            "__iter__\n",
            "__le__\n",
            "__len__\n",
            "__lt__\n",
            "__ne__\n",
            "__new__\n",
            "__reduce__\n",
            "__reduce_ex__\n",
            "__repr__\n",
            "__setattr__\n",
            "__setitem__\n",
            "__sizeof__\n",
            "__str__\n",
            "__subclasshook__\n",
            "clear\n",
            "copy\n",
            "fromkeys\n",
            "get\n",
            "items\n",
            "keys\n",
            "pop\n",
            "popitem\n",
            "setdefault\n",
            "update\n",
            "values\n"
          ],
          "name": "stdout"
        }
      ]
    },
    {
      "cell_type": "markdown",
      "metadata": {
        "id": "FDIpUVEWVDur"
      },
      "source": [
        "#manipulacion de los pares llave valor.\r\n",
        "para ello se empleanlos metodos:\r\n",
        "- keys()te regresa una tupla con los strings llave del diccionario.\r\n",
        "- values()te regresa solo los valores\r\n",
        "- items()te r4egresa los pares"
      ]
    },
    {
      "cell_type": "code",
      "metadata": {
        "id": "keAVmGH5WYzo"
      },
      "source": [
        ""
      ],
      "execution_count": null,
      "outputs": []
    },
    {
      "cell_type": "code",
      "metadata": {
        "colab": {
          "base_uri": "https://localhost:8080/"
        },
        "id": "s-7IiLfiWFR2",
        "outputId": "7926433f-52f7-4970-d956-cd6e5dc31898"
      },
      "source": [
        "print(alumno)\r\n",
        "llaves=alumno.keys()\r\n",
        "print(llaves)\r\n",
        "for elem in llaves:\r\n",
        "  print(elem)\r\n",
        "  print(alumno[elem])\r\n",
        "#print(help(llaves))\r\n",
        "#manipular los valores\r\n",
        "valores= alumno.values()\r\n",
        "print(valores)\r\n",
        "print(\".-.-.-.-.-.-\")\r\n",
        "for val in valores:\r\n",
        "  print(val)\r\n",
        "#manipular pares\r\n",
        "pares= alumno.items()\r\n",
        "print(pares)\r\n",
        "for par in pares:\r\n",
        "  print(par)"
      ],
      "execution_count": 39,
      "outputs": [
        {
          "output_type": "stream",
          "text": [
            "{'nombre': 'Juan Pérez', 'edad': 18, 'Matricula': 312193, 'calificaciones': {'Mate': 8, 'ciencias': 9, 'ingles': 8}, 'aprovado': True, 'direccion': {'calle': 'rancho seco', 'numero': ' s/n', 'colonia': 'impulsora popular avicola', 'municipio': 'mi-nezota', 'estado': {'xd'}}, 'seguro': True}\n",
            "dict_keys(['nombre', 'edad', 'Matricula', 'calificaciones', 'aprovado', 'direccion', 'seguro'])\n",
            "nombre\n",
            "Juan Pérez\n",
            "edad\n",
            "18\n",
            "Matricula\n",
            "312193\n",
            "calificaciones\n",
            "{'Mate': 8, 'ciencias': 9, 'ingles': 8}\n",
            "aprovado\n",
            "True\n",
            "direccion\n",
            "{'calle': 'rancho seco', 'numero': ' s/n', 'colonia': 'impulsora popular avicola', 'municipio': 'mi-nezota', 'estado': {'xd'}}\n",
            "seguro\n",
            "True\n",
            "dict_values(['Juan Pérez', 18, 312193, {'Mate': 8, 'ciencias': 9, 'ingles': 8}, True, {'calle': 'rancho seco', 'numero': ' s/n', 'colonia': 'impulsora popular avicola', 'municipio': 'mi-nezota', 'estado': {'xd'}}, True])\n",
            ".-.-.-.-.-.-\n",
            "Juan Pérez\n",
            "18\n",
            "312193\n",
            "{'Mate': 8, 'ciencias': 9, 'ingles': 8}\n",
            "True\n",
            "{'calle': 'rancho seco', 'numero': ' s/n', 'colonia': 'impulsora popular avicola', 'municipio': 'mi-nezota', 'estado': {'xd'}}\n",
            "True\n",
            "dict_items([('nombre', 'Juan Pérez'), ('edad', 18), ('Matricula', 312193), ('calificaciones', {'Mate': 8, 'ciencias': 9, 'ingles': 8}), ('aprovado', True), ('direccion', {'calle': 'rancho seco', 'numero': ' s/n', 'colonia': 'impulsora popular avicola', 'municipio': 'mi-nezota', 'estado': {'xd'}}), ('seguro', True)])\n",
            "('nombre', 'Juan Pérez')\n",
            "('edad', 18)\n",
            "('Matricula', 312193)\n",
            "('calificaciones', {'Mate': 8, 'ciencias': 9, 'ingles': 8})\n",
            "('aprovado', True)\n",
            "('direccion', {'calle': 'rancho seco', 'numero': ' s/n', 'colonia': 'impulsora popular avicola', 'municipio': 'mi-nezota', 'estado': {'xd'}})\n",
            "('seguro', True)\n"
          ],
          "name": "stdout"
        }
      ]
    },
    {
      "cell_type": "code",
      "metadata": {
        "colab": {
          "base_uri": "https://localhost:8080/"
        },
        "id": "XR5nsS31Yx9h",
        "outputId": "706381d7-8af5-498a-86da-c89284e3a546"
      },
      "source": [
        "print(help(dict.keys))"
      ],
      "execution_count": 40,
      "outputs": [
        {
          "output_type": "stream",
          "text": [
            "Help on method_descriptor:\n",
            "\n",
            "keys(...)\n",
            "    D.keys() -> a set-like object providing a view on D's keys\n",
            "\n",
            "None\n"
          ],
          "name": "stdout"
        }
      ]
    }
  ]
}